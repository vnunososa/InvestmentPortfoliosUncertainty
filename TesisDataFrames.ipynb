{
 "cells": [
  {
   "cell_type": "code",
   "execution_count": 1,
   "metadata": {},
   "outputs": [],
   "source": [
    "import pandas as pd\n",
    "import numpy as np\n",
    "import scipy\n",
    "from math import sqrt, log\n",
    "from pylab import *\n",
    "import matplotlib.pyplot as plt\n",
    "from datetime import datetime\n",
    "import seaborn as sns\n",
    "#instanteInicial = datetime.now()"
   ]
  },
  {
   "cell_type": "code",
   "execution_count": 4,
   "metadata": {},
   "outputs": [],
   "source": [
    "data = pd.read_csv(\"/Users/Victor/Documents/Tesis/Historical/data.csv\")"
   ]
  },
  {
   "cell_type": "code",
   "execution_count": 52,
   "metadata": {},
   "outputs": [],
   "source": [
    "def ren(data, n): \n",
    "    df_rendimientos = pd.DataFrame()\n",
    "    for i in range(len(data.index)-1):\n",
    "        df_rendimientos[i+1] = [log(data.loc[i+1][j]/data.loc[i][j]) for j in range(n)]\n",
    "    df_rendimientos = pd.DataFrame.transpose(df_rendimientos) \n",
    "    mu_rendimientos = df_rendimientos.mean()\n",
    "    Cov = df_rendimientos.cov()\n",
    "    L = scipy.linalg.cholesky(Cov, lower=True)\n",
    "    return Cov, L, mu_rendimientos"
   ]
  },
  {
   "cell_type": "code",
   "execution_count": 6,
   "metadata": {},
   "outputs": [],
   "source": [
    "def muestra(L, m, mu_rendimientos, n):\n",
    "    must = pd.DataFrame()\n",
    "    for i in range(m):\n",
    "        y = np.dot(L,np.array([np.random.normal(0,1) for k in range(n)]))\n",
    "        must [i+1] = [y[j] + mu_rendimientos[j] for j in range (n)]\n",
    "    must = pd.DataFrame.transpose(must)\n",
    "    return must.mean(), must.cov()    "
   ]
  },
  {
   "cell_type": "code",
   "execution_count": 7,
   "metadata": {},
   "outputs": [],
   "source": [
    "def optimo(cov,r,g0):\n",
    "    A = pd.DataFrame(2*cov)\n",
    "    uno = [1 for i in range(len(r))] \n",
    "    ag1 = pd.DataFrame.transpose(pd.DataFrame({'col1': r, 'col2':uno}))\n",
    "    r, n = list(r), len(r)\n",
    "    for i in range(2):\n",
    "        r.append(0), uno.append(0)\n",
    "    ag2 = pd.DataFrame({'col1': r, 'col2': uno})\n",
    "    ag1.reset_index(drop=True,inplace=True)\n",
    "    \n",
    "    A = pd.concat([A,ag1])\n",
    "    A['%d'%n] = list(ag2['col1'])\n",
    "    A['%d'%(n+1)] = list(ag2['col2'])\n",
    "    \n",
    "    b = [0 for x in range(n)]\n",
    "    b.extend([g0,1])\n",
    "    \n",
    "    z = np.dot(scipy.linalg.inv(A), np.asarray(b))\n",
    "    z = z[:-2]\n",
    "    v = np.dot(np.dot(z,cov),z)\n",
    "    return z, v"
   ]
  },
  {
   "cell_type": "code",
   "execution_count": 8,
   "metadata": {},
   "outputs": [],
   "source": [
    "def port(m,t,n):\n",
    "    instanteInicial = datetime.now()\n",
    "    C, L, mu_rendimientos = ren(data, n)\n",
    "    r = ['R%d'%i for i in range(1,n+1)]\n",
    "    w = ['W%d'%i for i in range(1,n+1)]\n",
    "    d = ['Var']\n",
    "    R, W = pd.DataFrame(), pd.DataFrame()\n",
    "    D = []\n",
    "    for i in range(t):\n",
    "        mus, cov = muestra(L, m, mu_rendimientos, n)\n",
    "        pesos, var = optimo(cov,mus,0.05)\n",
    "        R = pd.concat([R,pd.DataFrame.transpose(pd.DataFrame(mus))], ignore_index=True)\n",
    "        W = pd.concat([W,pd.DataFrame.transpose(pd.DataFrame(pesos))],ignore_index=True)\n",
    "        D.append(var)\n",
    "    R.columns = r\n",
    "    W.columns = w\n",
    "    D = pd.DataFrame(D, columns = d)\n",
    "    P = pd.concat([R,W,D], axis=1)\n",
    "    tiempo = datetime.now() - instanteInicial # Devuelve un objeto timedelta\n",
    "    print(tiempo.seconds)\n",
    "    return P"
   ]
  },
  {
   "cell_type": "code",
   "execution_count": 53,
   "metadata": {},
   "outputs": [],
   "source": [
    "C,Li,Rm = ren(data,len(data.columns)-2)\n",
    "wsp,varp = optimo(C,Rm,0.05)"
   ]
  },
  {
   "cell_type": "code",
   "execution_count": 55,
   "metadata": {},
   "outputs": [
    {
     "data": {
      "text/plain": [
       "(array([ 13.37273944,  66.10362425, -78.47636369]),\n",
       " 2.130644498667645,\n",
       " 0    0.000873\n",
       " 1    0.001254\n",
       " 2    0.000568\n",
       " dtype: float64)"
      ]
     },
     "execution_count": 55,
     "metadata": {},
     "output_type": "execute_result"
    }
   ],
   "source": [
    "wsp, varp, Rm"
   ]
  },
  {
   "cell_type": "code",
   "execution_count": 86,
   "metadata": {},
   "outputs": [
    {
     "data": {
      "text/html": [
       "<div>\n",
       "<style scoped>\n",
       "    .dataframe tbody tr th:only-of-type {\n",
       "        vertical-align: middle;\n",
       "    }\n",
       "\n",
       "    .dataframe tbody tr th {\n",
       "        vertical-align: top;\n",
       "    }\n",
       "\n",
       "    .dataframe thead th {\n",
       "        text-align: right;\n",
       "    }\n",
       "</style>\n",
       "<table border=\"1\" class=\"dataframe\">\n",
       "  <thead>\n",
       "    <tr style=\"text-align: right;\">\n",
       "      <th></th>\n",
       "      <th>0</th>\n",
       "      <th>1</th>\n",
       "      <th>2</th>\n",
       "    </tr>\n",
       "  </thead>\n",
       "  <tbody>\n",
       "    <tr>\n",
       "      <th>0</th>\n",
       "      <td>0.000354</td>\n",
       "      <td>0.000197</td>\n",
       "      <td>0.000154</td>\n",
       "    </tr>\n",
       "    <tr>\n",
       "      <th>1</th>\n",
       "      <td>0.000197</td>\n",
       "      <td>0.000540</td>\n",
       "      <td>0.000206</td>\n",
       "    </tr>\n",
       "    <tr>\n",
       "      <th>2</th>\n",
       "      <td>0.000154</td>\n",
       "      <td>0.000206</td>\n",
       "      <td>0.000296</td>\n",
       "    </tr>\n",
       "  </tbody>\n",
       "</table>\n",
       "</div>"
      ],
      "text/plain": [
       "          0         1         2\n",
       "0  0.000354  0.000197  0.000154\n",
       "1  0.000197  0.000540  0.000206\n",
       "2  0.000154  0.000206  0.000296"
      ]
     },
     "execution_count": 86,
     "metadata": {},
     "output_type": "execute_result"
    }
   ],
   "source": [
    "C"
   ]
  },
  {
   "cell_type": "markdown",
   "metadata": {},
   "source": [
    "# tres activos"
   ]
  },
  {
   "cell_type": "code",
   "execution_count": 65,
   "metadata": {},
   "outputs": [],
   "source": [
    "for i in range(0,len(data.columns)-2):    \n",
    "    P1['VarPorc_R%d'%(i+1)] = ((P1['R%d'%(i+1)]-Rm[i])/Rm[i])* 100\n",
    "    P1['VarPorc_W%d'%(i+1)] = ((P1['W%d'%(i+1)]-wsp[i])/wsp[i])* 100\n",
    "P1['VarPorc_Var'] = ((P1['Var']-varp)/varp)* 100"
   ]
  },
  {
   "cell_type": "code",
   "execution_count": 66,
   "metadata": {},
   "outputs": [
    {
     "data": {
      "text/html": [
       "<div>\n",
       "<style scoped>\n",
       "    .dataframe tbody tr th:only-of-type {\n",
       "        vertical-align: middle;\n",
       "    }\n",
       "\n",
       "    .dataframe tbody tr th {\n",
       "        vertical-align: top;\n",
       "    }\n",
       "\n",
       "    .dataframe thead th {\n",
       "        text-align: right;\n",
       "    }\n",
       "</style>\n",
       "<table border=\"1\" class=\"dataframe\">\n",
       "  <thead>\n",
       "    <tr style=\"text-align: right;\">\n",
       "      <th></th>\n",
       "      <th>R1</th>\n",
       "      <th>R2</th>\n",
       "      <th>R3</th>\n",
       "      <th>W1</th>\n",
       "      <th>W2</th>\n",
       "      <th>W3</th>\n",
       "      <th>Var</th>\n",
       "      <th>VarPorc_R1</th>\n",
       "      <th>VarPorc_R2</th>\n",
       "      <th>VarPorc_R3</th>\n",
       "      <th>VarPorc_W1</th>\n",
       "      <th>VarPorc_W2</th>\n",
       "      <th>VarPorc_W3</th>\n",
       "      <th>VarPorc_Var</th>\n",
       "    </tr>\n",
       "  </thead>\n",
       "  <tbody>\n",
       "    <tr>\n",
       "      <th>0</th>\n",
       "      <td>0.000781</td>\n",
       "      <td>0.002851</td>\n",
       "      <td>0.001252</td>\n",
       "      <td>-15.962024</td>\n",
       "      <td>25.776444</td>\n",
       "      <td>-8.814420</td>\n",
       "      <td>0.260651</td>\n",
       "      <td>-10.599366</td>\n",
       "      <td>127.360436</td>\n",
       "      <td>120.468221</td>\n",
       "      <td>-219.362409</td>\n",
       "      <td>-61.006005</td>\n",
       "      <td>-88.768058</td>\n",
       "      <td>-87.766560</td>\n",
       "    </tr>\n",
       "    <tr>\n",
       "      <th>1</th>\n",
       "      <td>0.000235</td>\n",
       "      <td>0.001924</td>\n",
       "      <td>0.001132</td>\n",
       "      <td>-32.057240</td>\n",
       "      <td>25.376779</td>\n",
       "      <td>7.680461</td>\n",
       "      <td>0.420456</td>\n",
       "      <td>-73.095167</td>\n",
       "      <td>53.441807</td>\n",
       "      <td>99.343336</td>\n",
       "      <td>-339.720815</td>\n",
       "      <td>-61.610609</td>\n",
       "      <td>-109.786974</td>\n",
       "      <td>-80.266263</td>\n",
       "    </tr>\n",
       "    <tr>\n",
       "      <th>2</th>\n",
       "      <td>0.000823</td>\n",
       "      <td>0.000687</td>\n",
       "      <td>0.000238</td>\n",
       "      <td>63.722992</td>\n",
       "      <td>27.727882</td>\n",
       "      <td>-90.450874</td>\n",
       "      <td>2.103053</td>\n",
       "      <td>-5.739660</td>\n",
       "      <td>-45.191898</td>\n",
       "      <td>-58.149021</td>\n",
       "      <td>376.514123</td>\n",
       "      <td>-58.053916</td>\n",
       "      <td>15.258747</td>\n",
       "      <td>-1.295002</td>\n",
       "    </tr>\n",
       "    <tr>\n",
       "      <th>3</th>\n",
       "      <td>0.001235</td>\n",
       "      <td>0.000947</td>\n",
       "      <td>0.000027</td>\n",
       "      <td>31.305728</td>\n",
       "      <td>13.210063</td>\n",
       "      <td>-43.515791</td>\n",
       "      <td>0.496451</td>\n",
       "      <td>41.463749</td>\n",
       "      <td>-24.456537</td>\n",
       "      <td>-95.217744</td>\n",
       "      <td>134.101085</td>\n",
       "      <td>-80.016129</td>\n",
       "      <td>-44.549175</td>\n",
       "      <td>-76.699512</td>\n",
       "    </tr>\n",
       "    <tr>\n",
       "      <th>4</th>\n",
       "      <td>0.000415</td>\n",
       "      <td>0.000834</td>\n",
       "      <td>0.000318</td>\n",
       "      <td>-19.184330</td>\n",
       "      <td>99.840024</td>\n",
       "      <td>-79.655694</td>\n",
       "      <td>3.543295</td>\n",
       "      <td>-52.523272</td>\n",
       "      <td>-33.498144</td>\n",
       "      <td>-44.051387</td>\n",
       "      <td>-243.458492</td>\n",
       "      <td>51.035628</td>\n",
       "      <td>1.502784</td>\n",
       "      <td>66.301571</td>\n",
       "    </tr>\n",
       "  </tbody>\n",
       "</table>\n",
       "</div>"
      ],
      "text/plain": [
       "         R1        R2        R3         W1         W2         W3       Var  \\\n",
       "0  0.000781  0.002851  0.001252 -15.962024  25.776444  -8.814420  0.260651   \n",
       "1  0.000235  0.001924  0.001132 -32.057240  25.376779   7.680461  0.420456   \n",
       "2  0.000823  0.000687  0.000238  63.722992  27.727882 -90.450874  2.103053   \n",
       "3  0.001235  0.000947  0.000027  31.305728  13.210063 -43.515791  0.496451   \n",
       "4  0.000415  0.000834  0.000318 -19.184330  99.840024 -79.655694  3.543295   \n",
       "\n",
       "   VarPorc_R1  VarPorc_R2  VarPorc_R3  VarPorc_W1  VarPorc_W2  VarPorc_W3  \\\n",
       "0  -10.599366  127.360436  120.468221 -219.362409  -61.006005  -88.768058   \n",
       "1  -73.095167   53.441807   99.343336 -339.720815  -61.610609 -109.786974   \n",
       "2   -5.739660  -45.191898  -58.149021  376.514123  -58.053916   15.258747   \n",
       "3   41.463749  -24.456537  -95.217744  134.101085  -80.016129  -44.549175   \n",
       "4  -52.523272  -33.498144  -44.051387 -243.458492   51.035628    1.502784   \n",
       "\n",
       "   VarPorc_Var  \n",
       "0   -87.766560  \n",
       "1   -80.266263  \n",
       "2    -1.295002  \n",
       "3   -76.699512  \n",
       "4    66.301571  "
      ]
     },
     "execution_count": 66,
     "metadata": {},
     "output_type": "execute_result"
    }
   ],
   "source": [
    "P1.head()"
   ]
  },
  {
   "cell_type": "code",
   "execution_count": 67,
   "metadata": {},
   "outputs": [],
   "source": [
    "P1.to_csv('3assets_sample(1000).csv')"
   ]
  },
  {
   "cell_type": "code",
   "execution_count": 17,
   "metadata": {},
   "outputs": [
    {
     "name": "stdout",
     "output_type": "stream",
     "text": [
      "617\n"
     ]
    }
   ],
   "source": [
    "P1 = port(1000,1000,len(data.columns)-2)"
   ]
  },
  {
   "cell_type": "code",
   "execution_count": 18,
   "metadata": {},
   "outputs": [
    {
     "data": {
      "text/plain": [
       "R1     3.682149e-07\n",
       "R2     5.637199e-07\n",
       "R3     3.212428e-07\n",
       "W1     6.360128e+03\n",
       "W2     5.199904e+03\n",
       "W3     8.384159e+03\n",
       "Var    5.530272e+02\n",
       "dtype: float64"
      ]
     },
     "execution_count": 18,
     "metadata": {},
     "output_type": "execute_result"
    }
   ],
   "source": [
    "P1.var()"
   ]
  },
  {
   "cell_type": "code",
   "execution_count": 89,
   "metadata": {},
   "outputs": [
    {
     "data": {
      "text/plain": [
       "<matplotlib.axes._subplots.AxesSubplot at 0x1a14400a50>"
      ]
     },
     "execution_count": 89,
     "metadata": {},
     "output_type": "execute_result"
    },
    {
     "data": {
      "image/png": "[encoded data removed]",
      "text/plain": [
       "<matplotlib.figure.Figure at 0x1a14aaf310>"
      ]
     },
     "metadata": {},
     "output_type": "display_data"
    }
   ],
   "source": [
    "P1['Var'].hist(bins = [i/5 for i in range(0, 30)])"
   ]
  },
  {
   "cell_type": "code",
   "execution_count": 9,
   "metadata": {},
   "outputs": [
    {
     "name": "stdout",
     "output_type": "stream",
     "text": [
      "3046\n"
     ]
    }
   ],
   "source": [
    "P2 = port(5000,1000, len(data.columns)-2)"
   ]
  },
  {
   "cell_type": "code",
   "execution_count": 13,
   "metadata": {
    "scrolled": true
   },
   "outputs": [
    {
     "data": {
      "text/plain": [
       "R1     6.582856e-08\n",
       "R2     1.056569e-07\n",
       "R3     5.601523e-08\n",
       "W1     6.354983e+03\n",
       "W2     2.376404e+03\n",
       "W3     6.047116e+03\n",
       "Var    4.208702e+02\n",
       "dtype: float64"
      ]
     },
     "execution_count": 13,
     "metadata": {},
     "output_type": "execute_result"
    }
   ],
   "source": [
    "P2.var()"
   ]
  },
  {
   "cell_type": "code",
   "execution_count": 68,
   "metadata": {},
   "outputs": [],
   "source": [
    "for i in range(0,len(data.columns)-2):    \n",
    "    P2['VarPorc_R%d'%(i+1)] = ((P2['R%d'%(i+1)]-Rm[i])/Rm[i])* 100\n",
    "    P2['VarPorc_W%d'%(i+1)] = ((P2['W%d'%(i+1)]-wsp[i])/wsp[i])* 100\n",
    "P2['VarPorc_Var'] = ((P2['Var']-varp)/varp)* 100"
   ]
  },
  {
   "cell_type": "code",
   "execution_count": 69,
   "metadata": {},
   "outputs": [
    {
     "data": {
      "text/html": [
       "<div>\n",
       "<style scoped>\n",
       "    .dataframe tbody tr th:only-of-type {\n",
       "        vertical-align: middle;\n",
       "    }\n",
       "\n",
       "    .dataframe tbody tr th {\n",
       "        vertical-align: top;\n",
       "    }\n",
       "\n",
       "    .dataframe thead th {\n",
       "        text-align: right;\n",
       "    }\n",
       "</style>\n",
       "<table border=\"1\" class=\"dataframe\">\n",
       "  <thead>\n",
       "    <tr style=\"text-align: right;\">\n",
       "      <th></th>\n",
       "      <th>R1</th>\n",
       "      <th>R2</th>\n",
       "      <th>R3</th>\n",
       "      <th>W1</th>\n",
       "      <th>W2</th>\n",
       "      <th>W3</th>\n",
       "      <th>Var</th>\n",
       "      <th>VarPorc_R1</th>\n",
       "      <th>VarPorc_W1</th>\n",
       "      <th>VarPorc_R2</th>\n",
       "      <th>VarPorc_W2</th>\n",
       "      <th>VarPorc_R3</th>\n",
       "      <th>VarPorc_W3</th>\n",
       "      <th>VarPorc_Var</th>\n",
       "    </tr>\n",
       "  </thead>\n",
       "  <tbody>\n",
       "    <tr>\n",
       "      <th>0</th>\n",
       "      <td>0.000658</td>\n",
       "      <td>0.001049</td>\n",
       "      <td>0.000213</td>\n",
       "      <td>16.168496</td>\n",
       "      <td>50.967315</td>\n",
       "      <td>-66.135811</td>\n",
       "      <td>1.364312</td>\n",
       "      <td>-24.597102</td>\n",
       "      <td>20.906386</td>\n",
       "      <td>-16.391030</td>\n",
       "      <td>-22.897850</td>\n",
       "      <td>-62.503468</td>\n",
       "      <td>-15.725184</td>\n",
       "      <td>-35.967167</td>\n",
       "    </tr>\n",
       "    <tr>\n",
       "      <th>1</th>\n",
       "      <td>0.001028</td>\n",
       "      <td>0.001156</td>\n",
       "      <td>0.000591</td>\n",
       "      <td>42.646044</td>\n",
       "      <td>54.518341</td>\n",
       "      <td>-96.164385</td>\n",
       "      <td>2.421061</td>\n",
       "      <td>17.738310</td>\n",
       "      <td>218.902828</td>\n",
       "      <td>-7.842382</td>\n",
       "      <td>-17.525943</td>\n",
       "      <td>4.072940</td>\n",
       "      <td>22.539298</td>\n",
       "      <td>13.630462</td>\n",
       "    </tr>\n",
       "    <tr>\n",
       "      <th>2</th>\n",
       "      <td>0.001156</td>\n",
       "      <td>0.001372</td>\n",
       "      <td>0.000674</td>\n",
       "      <td>31.952770</td>\n",
       "      <td>48.647148</td>\n",
       "      <td>-79.599918</td>\n",
       "      <td>1.781331</td>\n",
       "      <td>32.349612</td>\n",
       "      <td>138.939598</td>\n",
       "      <td>9.367903</td>\n",
       "      <td>-26.407744</td>\n",
       "      <td>18.648380</td>\n",
       "      <td>1.431711</td>\n",
       "      <td>-16.394721</td>\n",
       "    </tr>\n",
       "    <tr>\n",
       "      <th>3</th>\n",
       "      <td>0.000626</td>\n",
       "      <td>0.001343</td>\n",
       "      <td>0.000619</td>\n",
       "      <td>-24.943177</td>\n",
       "      <td>68.512352</td>\n",
       "      <td>-42.569175</td>\n",
       "      <td>1.718262</td>\n",
       "      <td>-28.301475</td>\n",
       "      <td>-286.522565</td>\n",
       "      <td>7.056798</td>\n",
       "      <td>3.643866</td>\n",
       "      <td>9.058262</td>\n",
       "      <td>-45.755419</td>\n",
       "      <td>-19.354829</td>\n",
       "    </tr>\n",
       "    <tr>\n",
       "      <th>4</th>\n",
       "      <td>0.000822</td>\n",
       "      <td>0.001039</td>\n",
       "      <td>0.000394</td>\n",
       "      <td>32.389116</td>\n",
       "      <td>55.338753</td>\n",
       "      <td>-86.727869</td>\n",
       "      <td>2.179296</td>\n",
       "      <td>-5.829264</td>\n",
       "      <td>142.202550</td>\n",
       "      <td>-17.118546</td>\n",
       "      <td>-16.284842</td>\n",
       "      <td>-30.677375</td>\n",
       "      <td>10.514638</td>\n",
       "      <td>2.283407</td>\n",
       "    </tr>\n",
       "  </tbody>\n",
       "</table>\n",
       "</div>"
      ],
      "text/plain": [
       "         R1        R2        R3         W1         W2         W3       Var  \\\n",
       "0  0.000658  0.001049  0.000213  16.168496  50.967315 -66.135811  1.364312   \n",
       "1  0.001028  0.001156  0.000591  42.646044  54.518341 -96.164385  2.421061   \n",
       "2  0.001156  0.001372  0.000674  31.952770  48.647148 -79.599918  1.781331   \n",
       "3  0.000626  0.001343  0.000619 -24.943177  68.512352 -42.569175  1.718262   \n",
       "4  0.000822  0.001039  0.000394  32.389116  55.338753 -86.727869  2.179296   \n",
       "\n",
       "   VarPorc_R1  VarPorc_W1  VarPorc_R2  VarPorc_W2  VarPorc_R3  VarPorc_W3  \\\n",
       "0  -24.597102   20.906386  -16.391030  -22.897850  -62.503468  -15.725184   \n",
       "1   17.738310  218.902828   -7.842382  -17.525943    4.072940   22.539298   \n",
       "2   32.349612  138.939598    9.367903  -26.407744   18.648380    1.431711   \n",
       "3  -28.301475 -286.522565    7.056798    3.643866    9.058262  -45.755419   \n",
       "4   -5.829264  142.202550  -17.118546  -16.284842  -30.677375   10.514638   \n",
       "\n",
       "   VarPorc_Var  \n",
       "0   -35.967167  \n",
       "1    13.630462  \n",
       "2   -16.394721  \n",
       "3   -19.354829  \n",
       "4     2.283407  "
      ]
     },
     "execution_count": 69,
     "metadata": {},
     "output_type": "execute_result"
    }
   ],
   "source": [
    "P2.head()"
   ]
  },
  {
   "cell_type": "code",
   "execution_count": 70,
   "metadata": {},
   "outputs": [],
   "source": [
    "P2.to_csv('3assets_sample(5000).csv')"
   ]
  },
  {
   "cell_type": "code",
   "execution_count": 43,
   "metadata": {},
   "outputs": [
    {
     "data": {
      "text/plain": [
       "<matplotlib.axes._subplots.AxesSubplot at 0x1a136ee510>"
      ]
     },
     "execution_count": 43,
     "metadata": {},
     "output_type": "execute_result"
    },
    {
     "data": {
      "image/png": "[encoded data removed]",
      "text/plain": [
       "<matplotlib.figure.Figure at 0x1a0a8b9390>"
      ]
     },
     "metadata": {},
     "output_type": "display_data"
    }
   ],
   "source": [
    "P2['Var'].hist(bins = [i/5 for i in range(0, 50)])"
   ]
  },
  {
   "cell_type": "code",
   "execution_count": 19,
   "metadata": {},
   "outputs": [
    {
     "name": "stdout",
     "output_type": "stream",
     "text": [
      "8727\n"
     ]
    }
   ],
   "source": [
    "P3 = port(10000,1000, len(data.columns)-2)"
   ]
  },
  {
   "cell_type": "code",
   "execution_count": 20,
   "metadata": {},
   "outputs": [
    {
     "data": {
      "text/plain": [
       "R1     3.776234e-08\n",
       "R2     5.621948e-08\n",
       "R3     3.084723e-08\n",
       "W1     1.139085e+03\n",
       "W2     1.028443e+03\n",
       "W3     1.306641e+03\n",
       "Var    1.714613e+01\n",
       "dtype: float64"
      ]
     },
     "execution_count": 20,
     "metadata": {},
     "output_type": "execute_result"
    }
   ],
   "source": [
    "P3.var()"
   ]
  },
  {
   "cell_type": "code",
   "execution_count": 71,
   "metadata": {},
   "outputs": [],
   "source": [
    "for i in range(0,len(data.columns)-2):    \n",
    "    P3['VarPorc_R%d'%(i+1)] = ((P3['R%d'%(i+1)]-Rm[i])/Rm[i])* 100\n",
    "    P3['VarPorc_W%d'%(i+1)] = ((P3['W%d'%(i+1)]-wsp[i])/wsp[i])* 100\n",
    "P3['VarPorc_Var'] = ((P3['Var']-varp)/varp)* 100"
   ]
  },
  {
   "cell_type": "code",
   "execution_count": 72,
   "metadata": {},
   "outputs": [
    {
     "data": {
      "text/html": [
       "<div>\n",
       "<style scoped>\n",
       "    .dataframe tbody tr th:only-of-type {\n",
       "        vertical-align: middle;\n",
       "    }\n",
       "\n",
       "    .dataframe tbody tr th {\n",
       "        vertical-align: top;\n",
       "    }\n",
       "\n",
       "    .dataframe thead th {\n",
       "        text-align: right;\n",
       "    }\n",
       "</style>\n",
       "<table border=\"1\" class=\"dataframe\">\n",
       "  <thead>\n",
       "    <tr style=\"text-align: right;\">\n",
       "      <th></th>\n",
       "      <th>R1</th>\n",
       "      <th>R2</th>\n",
       "      <th>R3</th>\n",
       "      <th>W1</th>\n",
       "      <th>W2</th>\n",
       "      <th>W3</th>\n",
       "      <th>Var</th>\n",
       "      <th>VarPorc_R1</th>\n",
       "      <th>VarPorc_W1</th>\n",
       "      <th>VarPorc_R2</th>\n",
       "      <th>VarPorc_W2</th>\n",
       "      <th>VarPorc_R3</th>\n",
       "      <th>VarPorc_W3</th>\n",
       "      <th>VarPorc_Var</th>\n",
       "    </tr>\n",
       "  </thead>\n",
       "  <tbody>\n",
       "    <tr>\n",
       "      <th>0</th>\n",
       "      <td>0.000699</td>\n",
       "      <td>0.001376</td>\n",
       "      <td>0.000552</td>\n",
       "      <td>-11.645222</td>\n",
       "      <td>62.082247</td>\n",
       "      <td>-49.437025</td>\n",
       "      <td>1.499587</td>\n",
       "      <td>-19.900658</td>\n",
       "      <td>-187.081795</td>\n",
       "      <td>9.713352</td>\n",
       "      <td>-6.083445</td>\n",
       "      <td>-2.867273</td>\n",
       "      <td>-37.003930</td>\n",
       "      <td>-29.618156</td>\n",
       "    </tr>\n",
       "    <tr>\n",
       "      <th>1</th>\n",
       "      <td>0.000724</td>\n",
       "      <td>0.001781</td>\n",
       "      <td>0.000594</td>\n",
       "      <td>-11.101908</td>\n",
       "      <td>42.813048</td>\n",
       "      <td>-30.711140</td>\n",
       "      <td>0.685107</td>\n",
       "      <td>-17.057644</td>\n",
       "      <td>-183.018947</td>\n",
       "      <td>42.050860</td>\n",
       "      <td>-35.233434</td>\n",
       "      <td>4.505114</td>\n",
       "      <td>-60.865745</td>\n",
       "      <td>-67.845071</td>\n",
       "    </tr>\n",
       "    <tr>\n",
       "      <th>2</th>\n",
       "      <td>0.000790</td>\n",
       "      <td>0.001388</td>\n",
       "      <td>0.000546</td>\n",
       "      <td>-0.960481</td>\n",
       "      <td>59.034351</td>\n",
       "      <td>-57.073870</td>\n",
       "      <td>1.469490</td>\n",
       "      <td>-9.478971</td>\n",
       "      <td>-107.182383</td>\n",
       "      <td>10.643450</td>\n",
       "      <td>-10.694229</td>\n",
       "      <td>-3.896553</td>\n",
       "      <td>-27.272535</td>\n",
       "      <td>-31.030725</td>\n",
       "    </tr>\n",
       "    <tr>\n",
       "      <th>3</th>\n",
       "      <td>0.001179</td>\n",
       "      <td>0.001365</td>\n",
       "      <td>0.000739</td>\n",
       "      <td>36.443210</td>\n",
       "      <td>53.096599</td>\n",
       "      <td>-88.539809</td>\n",
       "      <td>2.089164</td>\n",
       "      <td>35.066017</td>\n",
       "      <td>172.518659</td>\n",
       "      <td>8.806903</td>\n",
       "      <td>-19.676721</td>\n",
       "      <td>30.095862</td>\n",
       "      <td>12.823537</td>\n",
       "      <td>-1.946849</td>\n",
       "    </tr>\n",
       "    <tr>\n",
       "      <th>4</th>\n",
       "      <td>0.000921</td>\n",
       "      <td>0.001245</td>\n",
       "      <td>0.000662</td>\n",
       "      <td>18.373565</td>\n",
       "      <td>76.410323</td>\n",
       "      <td>-93.783888</td>\n",
       "      <td>2.922182</td>\n",
       "      <td>5.517920</td>\n",
       "      <td>37.395668</td>\n",
       "      <td>-0.688194</td>\n",
       "      <td>15.591730</td>\n",
       "      <td>16.561021</td>\n",
       "      <td>19.505904</td>\n",
       "      <td>37.150154</td>\n",
       "    </tr>\n",
       "  </tbody>\n",
       "</table>\n",
       "</div>"
      ],
      "text/plain": [
       "         R1        R2        R3         W1         W2         W3       Var  \\\n",
       "0  0.000699  0.001376  0.000552 -11.645222  62.082247 -49.437025  1.499587   \n",
       "1  0.000724  0.001781  0.000594 -11.101908  42.813048 -30.711140  0.685107   \n",
       "2  0.000790  0.001388  0.000546  -0.960481  59.034351 -57.073870  1.469490   \n",
       "3  0.001179  0.001365  0.000739  36.443210  53.096599 -88.539809  2.089164   \n",
       "4  0.000921  0.001245  0.000662  18.373565  76.410323 -93.783888  2.922182   \n",
       "\n",
       "   VarPorc_R1  VarPorc_W1  VarPorc_R2  VarPorc_W2  VarPorc_R3  VarPorc_W3  \\\n",
       "0  -19.900658 -187.081795    9.713352   -6.083445   -2.867273  -37.003930   \n",
       "1  -17.057644 -183.018947   42.050860  -35.233434    4.505114  -60.865745   \n",
       "2   -9.478971 -107.182383   10.643450  -10.694229   -3.896553  -27.272535   \n",
       "3   35.066017  172.518659    8.806903  -19.676721   30.095862   12.823537   \n",
       "4    5.517920   37.395668   -0.688194   15.591730   16.561021   19.505904   \n",
       "\n",
       "   VarPorc_Var  \n",
       "0   -29.618156  \n",
       "1   -67.845071  \n",
       "2   -31.030725  \n",
       "3    -1.946849  \n",
       "4    37.150154  "
      ]
     },
     "execution_count": 72,
     "metadata": {},
     "output_type": "execute_result"
    }
   ],
   "source": [
    "P3.head()"
   ]
  },
  {
   "cell_type": "code",
   "execution_count": 73,
   "metadata": {},
   "outputs": [],
   "source": [
    "P3.to_csv('3assets_sample(10000).csv')"
   ]
  },
  {
   "cell_type": "code",
   "execution_count": 44,
   "metadata": {},
   "outputs": [
    {
     "data": {
      "text/plain": [
       "<matplotlib.axes._subplots.AxesSubplot at 0x1a13893f90>"
      ]
     },
     "execution_count": 44,
     "metadata": {},
     "output_type": "execute_result"
    },
    {
     "data": {
      "image/png": "[encoded data removed]",
      "text/plain": [
       "<matplotlib.figure.Figure at 0x1a13965950>"
      ]
     },
     "metadata": {},
     "output_type": "display_data"
    }
   ],
   "source": [
    "P3['Var'].hist(bins = [i/5 for i in range(0, 50)])"
   ]
  },
  {
   "cell_type": "code",
   "execution_count": 21,
   "metadata": {},
   "outputs": [
    {
     "name": "stdout",
     "output_type": "stream",
     "text": [
      "14967\n"
     ]
    }
   ],
   "source": [
    "P4 = port(15000,1000, len(data.columns)-2)"
   ]
  },
  {
   "cell_type": "code",
   "execution_count": 22,
   "metadata": {},
   "outputs": [
    {
     "data": {
      "text/plain": [
       "R1     2.290710e-08\n",
       "R2     3.823091e-08\n",
       "R3     1.888785e-08\n",
       "W1     5.811103e+02\n",
       "W2     4.106118e+02\n",
       "W3     7.652009e+02\n",
       "Var    3.372607e+00\n",
       "dtype: float64"
      ]
     },
     "execution_count": 22,
     "metadata": {},
     "output_type": "execute_result"
    }
   ],
   "source": [
    "P4.var()"
   ]
  },
  {
   "cell_type": "code",
   "execution_count": 74,
   "metadata": {},
   "outputs": [],
   "source": [
    "for i in range(0,len(data.columns)-2):    \n",
    "    P4['VarPorc_R%d'%(i+1)] = ((P4['R%d'%(i+1)]-Rm[i])/Rm[i])* 100\n",
    "    P4['VarPorc_W%d'%(i+1)] = ((P4['W%d'%(i+1)]-wsp[i])/wsp[i])* 100\n",
    "P4['VarPorc_Var'] = ((P4['Var']-varp)/varp)* 100"
   ]
  },
  {
   "cell_type": "code",
   "execution_count": 75,
   "metadata": {},
   "outputs": [
    {
     "data": {
      "text/html": [
       "<div>\n",
       "<style scoped>\n",
       "    .dataframe tbody tr th:only-of-type {\n",
       "        vertical-align: middle;\n",
       "    }\n",
       "\n",
       "    .dataframe tbody tr th {\n",
       "        vertical-align: top;\n",
       "    }\n",
       "\n",
       "    .dataframe thead th {\n",
       "        text-align: right;\n",
       "    }\n",
       "</style>\n",
       "<table border=\"1\" class=\"dataframe\">\n",
       "  <thead>\n",
       "    <tr style=\"text-align: right;\">\n",
       "      <th></th>\n",
       "      <th>R1</th>\n",
       "      <th>R2</th>\n",
       "      <th>R3</th>\n",
       "      <th>W1</th>\n",
       "      <th>W2</th>\n",
       "      <th>W3</th>\n",
       "      <th>Var</th>\n",
       "      <th>VarPorc_R1</th>\n",
       "      <th>VarPorc_W1</th>\n",
       "      <th>VarPorc_R2</th>\n",
       "      <th>VarPorc_W2</th>\n",
       "      <th>VarPorc_R3</th>\n",
       "      <th>VarPorc_W3</th>\n",
       "      <th>VarPorc_Var</th>\n",
       "    </tr>\n",
       "  </thead>\n",
       "  <tbody>\n",
       "    <tr>\n",
       "      <th>0</th>\n",
       "      <td>0.001034</td>\n",
       "      <td>0.001192</td>\n",
       "      <td>0.000813</td>\n",
       "      <td>46.376430</td>\n",
       "      <td>102.566299</td>\n",
       "      <td>-147.942730</td>\n",
       "      <td>6.349305</td>\n",
       "      <td>18.441900</td>\n",
       "      <td>246.798280</td>\n",
       "      <td>-4.938532</td>\n",
       "      <td>55.159873</td>\n",
       "      <td>43.075900</td>\n",
       "      <td>88.518839</td>\n",
       "      <td>197.999264</td>\n",
       "    </tr>\n",
       "    <tr>\n",
       "      <th>1</th>\n",
       "      <td>0.000940</td>\n",
       "      <td>0.001173</td>\n",
       "      <td>0.000543</td>\n",
       "      <td>31.084642</td>\n",
       "      <td>58.805528</td>\n",
       "      <td>-88.890170</td>\n",
       "      <td>2.252759</td>\n",
       "      <td>7.718191</td>\n",
       "      <td>132.447826</td>\n",
       "      <td>-6.443378</td>\n",
       "      <td>-11.040388</td>\n",
       "      <td>-4.477531</td>\n",
       "      <td>13.269990</td>\n",
       "      <td>5.731360</td>\n",
       "    </tr>\n",
       "    <tr>\n",
       "      <th>2</th>\n",
       "      <td>0.000884</td>\n",
       "      <td>0.001662</td>\n",
       "      <td>0.000710</td>\n",
       "      <td>-8.724401</td>\n",
       "      <td>53.357443</td>\n",
       "      <td>-43.633041</td>\n",
       "      <td>1.096382</td>\n",
       "      <td>1.247255</td>\n",
       "      <td>-165.240196</td>\n",
       "      <td>32.515605</td>\n",
       "      <td>-19.282122</td>\n",
       "      <td>24.922829</td>\n",
       "      <td>-44.399766</td>\n",
       "      <td>-48.542249</td>\n",
       "    </tr>\n",
       "    <tr>\n",
       "      <th>3</th>\n",
       "      <td>0.001210</td>\n",
       "      <td>0.001437</td>\n",
       "      <td>0.000726</td>\n",
       "      <td>29.844372</td>\n",
       "      <td>49.019016</td>\n",
       "      <td>-77.863388</td>\n",
       "      <td>1.692886</td>\n",
       "      <td>38.608041</td>\n",
       "      <td>123.173213</td>\n",
       "      <td>14.559925</td>\n",
       "      <td>-25.845192</td>\n",
       "      <td>27.842840</td>\n",
       "      <td>-0.781096</td>\n",
       "      <td>-20.545847</td>\n",
       "    </tr>\n",
       "    <tr>\n",
       "      <th>4</th>\n",
       "      <td>0.001091</td>\n",
       "      <td>0.001308</td>\n",
       "      <td>0.000848</td>\n",
       "      <td>30.270239</td>\n",
       "      <td>90.794928</td>\n",
       "      <td>-120.065167</td>\n",
       "      <td>4.441428</td>\n",
       "      <td>24.981205</td>\n",
       "      <td>126.357803</td>\n",
       "      <td>4.317180</td>\n",
       "      <td>37.352421</td>\n",
       "      <td>49.285233</td>\n",
       "      <td>52.995324</td>\n",
       "      <td>108.454687</td>\n",
       "    </tr>\n",
       "  </tbody>\n",
       "</table>\n",
       "</div>"
      ],
      "text/plain": [
       "         R1        R2        R3         W1          W2          W3       Var  \\\n",
       "0  0.001034  0.001192  0.000813  46.376430  102.566299 -147.942730  6.349305   \n",
       "1  0.000940  0.001173  0.000543  31.084642   58.805528  -88.890170  2.252759   \n",
       "2  0.000884  0.001662  0.000710  -8.724401   53.357443  -43.633041  1.096382   \n",
       "3  0.001210  0.001437  0.000726  29.844372   49.019016  -77.863388  1.692886   \n",
       "4  0.001091  0.001308  0.000848  30.270239   90.794928 -120.065167  4.441428   \n",
       "\n",
       "   VarPorc_R1  VarPorc_W1  VarPorc_R2  VarPorc_W2  VarPorc_R3  VarPorc_W3  \\\n",
       "0   18.441900  246.798280   -4.938532   55.159873   43.075900   88.518839   \n",
       "1    7.718191  132.447826   -6.443378  -11.040388   -4.477531   13.269990   \n",
       "2    1.247255 -165.240196   32.515605  -19.282122   24.922829  -44.399766   \n",
       "3   38.608041  123.173213   14.559925  -25.845192   27.842840   -0.781096   \n",
       "4   24.981205  126.357803    4.317180   37.352421   49.285233   52.995324   \n",
       "\n",
       "   VarPorc_Var  \n",
       "0   197.999264  \n",
       "1     5.731360  \n",
       "2   -48.542249  \n",
       "3   -20.545847  \n",
       "4   108.454687  "
      ]
     },
     "execution_count": 75,
     "metadata": {},
     "output_type": "execute_result"
    }
   ],
   "source": [
    "P4.head()"
   ]
  },
  {
   "cell_type": "code",
   "execution_count": 76,
   "metadata": {},
   "outputs": [],
   "source": [
    "P4.to_csv('3assets_sample(15000).csv')"
   ]
  },
  {
   "cell_type": "code",
   "execution_count": 45,
   "metadata": {},
   "outputs": [
    {
     "data": {
      "text/plain": [
       "<matplotlib.axes._subplots.AxesSubplot at 0x1a138934d0>"
      ]
     },
     "execution_count": 45,
     "metadata": {},
     "output_type": "execute_result"
    },
    {
     "data": {
      "image/png": "[encoded data removed]",
      "text/plain": [
       "<matplotlib.figure.Figure at 0x1a13b01590>"
      ]
     },
     "metadata": {},
     "output_type": "display_data"
    }
   ],
   "source": [
    "P4['Var'].hist(bins = [i/5 for i in range(0, 50)])"
   ]
  },
  {
   "cell_type": "code",
   "execution_count": 23,
   "metadata": {},
   "outputs": [
    {
     "name": "stdout",
     "output_type": "stream",
     "text": [
      "25761\n"
     ]
    }
   ],
   "source": [
    "P6 = port(20000,1000, len(data.columns)-2)"
   ]
  },
  {
   "cell_type": "code",
   "execution_count": 77,
   "metadata": {},
   "outputs": [],
   "source": [
    "for i in range(0,len(data.columns)-2):    \n",
    "    P6['VarPorc_R%d'%(i+1)] = ((P6['R%d'%(i+1)]-Rm[i])/Rm[i])* 100\n",
    "    P6['VarPorc_W%d'%(i+1)] = ((P6['W%d'%(i+1)]-wsp[i])/wsp[i])* 100\n",
    "P6['VarPorc_Var'] = ((P6['Var']-varp)/varp)* 100"
   ]
  },
  {
   "cell_type": "code",
   "execution_count": 78,
   "metadata": {},
   "outputs": [
    {
     "data": {
      "text/html": [
       "<div>\n",
       "<style scoped>\n",
       "    .dataframe tbody tr th:only-of-type {\n",
       "        vertical-align: middle;\n",
       "    }\n",
       "\n",
       "    .dataframe tbody tr th {\n",
       "        vertical-align: top;\n",
       "    }\n",
       "\n",
       "    .dataframe thead th {\n",
       "        text-align: right;\n",
       "    }\n",
       "</style>\n",
       "<table border=\"1\" class=\"dataframe\">\n",
       "  <thead>\n",
       "    <tr style=\"text-align: right;\">\n",
       "      <th></th>\n",
       "      <th>R1</th>\n",
       "      <th>R2</th>\n",
       "      <th>R3</th>\n",
       "      <th>W1</th>\n",
       "      <th>W2</th>\n",
       "      <th>W3</th>\n",
       "      <th>Var</th>\n",
       "      <th>VarPorc_R1</th>\n",
       "      <th>VarPorc_W1</th>\n",
       "      <th>VarPorc_R2</th>\n",
       "      <th>VarPorc_W2</th>\n",
       "      <th>VarPorc_R3</th>\n",
       "      <th>VarPorc_W3</th>\n",
       "      <th>VarPorc_Var</th>\n",
       "    </tr>\n",
       "  </thead>\n",
       "  <tbody>\n",
       "    <tr>\n",
       "      <th>0</th>\n",
       "      <td>0.000908</td>\n",
       "      <td>0.001244</td>\n",
       "      <td>0.000733</td>\n",
       "      <td>5.314791</td>\n",
       "      <td>94.683622</td>\n",
       "      <td>-98.998414</td>\n",
       "      <td>3.886446</td>\n",
       "      <td>3.965672</td>\n",
       "      <td>-60.256527</td>\n",
       "      <td>-0.840580</td>\n",
       "      <td>43.235146</td>\n",
       "      <td>29.049113</td>\n",
       "      <td>26.150613</td>\n",
       "      <td>82.407040</td>\n",
       "    </tr>\n",
       "    <tr>\n",
       "      <th>1</th>\n",
       "      <td>0.001048</td>\n",
       "      <td>0.001614</td>\n",
       "      <td>0.000540</td>\n",
       "      <td>10.246810</td>\n",
       "      <td>41.207265</td>\n",
       "      <td>-50.454075</td>\n",
       "      <td>0.856011</td>\n",
       "      <td>20.022446</td>\n",
       "      <td>-23.375388</td>\n",
       "      <td>28.715185</td>\n",
       "      <td>-37.662623</td>\n",
       "      <td>-4.897152</td>\n",
       "      <td>-35.707935</td>\n",
       "      <td>-59.823859</td>\n",
       "    </tr>\n",
       "    <tr>\n",
       "      <th>2</th>\n",
       "      <td>0.000774</td>\n",
       "      <td>0.001414</td>\n",
       "      <td>0.000564</td>\n",
       "      <td>-4.068370</td>\n",
       "      <td>59.147977</td>\n",
       "      <td>-54.079606</td>\n",
       "      <td>1.401069</td>\n",
       "      <td>-11.301807</td>\n",
       "      <td>-130.422862</td>\n",
       "      <td>12.761542</td>\n",
       "      <td>-10.522339</td>\n",
       "      <td>-0.732905</td>\n",
       "      <td>-31.088032</td>\n",
       "      <td>-34.242008</td>\n",
       "    </tr>\n",
       "    <tr>\n",
       "      <th>3</th>\n",
       "      <td>0.000935</td>\n",
       "      <td>0.001032</td>\n",
       "      <td>0.000522</td>\n",
       "      <td>50.747617</td>\n",
       "      <td>55.843729</td>\n",
       "      <td>-105.591346</td>\n",
       "      <td>2.954048</td>\n",
       "      <td>7.108146</td>\n",
       "      <td>279.485571</td>\n",
       "      <td>-17.729813</td>\n",
       "      <td>-15.520927</td>\n",
       "      <td>-8.176991</td>\n",
       "      <td>34.551782</td>\n",
       "      <td>38.645755</td>\n",
       "    </tr>\n",
       "    <tr>\n",
       "      <th>4</th>\n",
       "      <td>0.000738</td>\n",
       "      <td>0.001194</td>\n",
       "      <td>0.000362</td>\n",
       "      <td>12.014189</td>\n",
       "      <td>54.202426</td>\n",
       "      <td>-65.216616</td>\n",
       "      <td>1.460230</td>\n",
       "      <td>-15.436315</td>\n",
       "      <td>-10.159100</td>\n",
       "      <td>-4.785534</td>\n",
       "      <td>-18.003851</td>\n",
       "      <td>-36.311671</td>\n",
       "      <td>-16.896486</td>\n",
       "      <td>-31.465320</td>\n",
       "    </tr>\n",
       "  </tbody>\n",
       "</table>\n",
       "</div>"
      ],
      "text/plain": [
       "         R1        R2        R3         W1         W2          W3       Var  \\\n",
       "0  0.000908  0.001244  0.000733   5.314791  94.683622  -98.998414  3.886446   \n",
       "1  0.001048  0.001614  0.000540  10.246810  41.207265  -50.454075  0.856011   \n",
       "2  0.000774  0.001414  0.000564  -4.068370  59.147977  -54.079606  1.401069   \n",
       "3  0.000935  0.001032  0.000522  50.747617  55.843729 -105.591346  2.954048   \n",
       "4  0.000738  0.001194  0.000362  12.014189  54.202426  -65.216616  1.460230   \n",
       "\n",
       "   VarPorc_R1  VarPorc_W1  VarPorc_R2  VarPorc_W2  VarPorc_R3  VarPorc_W3  \\\n",
       "0    3.965672  -60.256527   -0.840580   43.235146   29.049113   26.150613   \n",
       "1   20.022446  -23.375388   28.715185  -37.662623   -4.897152  -35.707935   \n",
       "2  -11.301807 -130.422862   12.761542  -10.522339   -0.732905  -31.088032   \n",
       "3    7.108146  279.485571  -17.729813  -15.520927   -8.176991   34.551782   \n",
       "4  -15.436315  -10.159100   -4.785534  -18.003851  -36.311671  -16.896486   \n",
       "\n",
       "   VarPorc_Var  \n",
       "0    82.407040  \n",
       "1   -59.823859  \n",
       "2   -34.242008  \n",
       "3    38.645755  \n",
       "4   -31.465320  "
      ]
     },
     "execution_count": 78,
     "metadata": {},
     "output_type": "execute_result"
    }
   ],
   "source": [
    "P6.head()"
   ]
  },
  {
   "cell_type": "code",
   "execution_count": 79,
   "metadata": {},
   "outputs": [],
   "source": [
    "P6.to_csv('3assets_sample(20000).csv')"
   ]
  },
  {
   "cell_type": "code",
   "execution_count": 46,
   "metadata": {},
   "outputs": [
    {
     "data": {
      "text/plain": [
       "<matplotlib.axes._subplots.AxesSubplot at 0x1a13d3e750>"
      ]
     },
     "execution_count": 46,
     "metadata": {},
     "output_type": "execute_result"
    },
    {
     "data": {
      "image/png": "[encoded data removed]",
      "text/plain": [
       "<matplotlib.figure.Figure at 0x1a13e6b710>"
      ]
     },
     "metadata": {},
     "output_type": "display_data"
    }
   ],
   "source": [
    "P6['Var'].hist(bins = [i/5 for i in range(0, 50)])"
   ]
  },
  {
   "cell_type": "code",
   "execution_count": 82,
   "metadata": {},
   "outputs": [
    {
     "name": "stdout",
     "output_type": "stream",
     "text": [
      "13.878371964195152\n",
      "10.921494282500381\n",
      "4.8113897787235675\n",
      "3.286628986041122\n"
     ]
    }
   ],
   "source": [
    "print(np.percentile(P1['Var'],95)-np.percentile(P1['Var'],5))\n",
    "print(np.percentile(P2['Var'],95)-np.percentile(P2['Var'],5))\n",
    "print(np.percentile(P3['Var'],95)-np.percentile(P3['Var'],5))\n",
    "print(np.percentile(P6['Var'],95)-np.percentile(P6['Var'],5))"
   ]
  },
  {
   "cell_type": "markdown",
   "metadata": {},
   "source": [
    "# cinco activos"
   ]
  },
  {
   "cell_type": "code",
   "execution_count": 10,
   "metadata": {},
   "outputs": [
    {
     "name": "stdout",
     "output_type": "stream",
     "text": [
      "3205\n"
     ]
    }
   ],
   "source": [
    "P5 = port(5000,1000, len(data.columns))"
   ]
  },
  {
   "cell_type": "code",
   "execution_count": 14,
   "metadata": {},
   "outputs": [
    {
     "data": {
      "text/plain": [
       "R1     7.050165e-08\n",
       "R2     1.132705e-07\n",
       "R3     5.856436e-08\n",
       "R4     2.271713e-07\n",
       "R5     6.112664e-08\n",
       "W1     5.098716e+02\n",
       "W2     3.261699e+02\n",
       "W3     5.474915e+02\n",
       "W4     1.251505e+02\n",
       "W5     5.873481e+02\n",
       "Var    1.346018e+00\n",
       "dtype: float64"
      ]
     },
     "execution_count": 14,
     "metadata": {},
     "output_type": "execute_result"
    }
   ],
   "source": [
    "P5.var()"
   ]
  },
  {
   "cell_type": "code",
   "execution_count": 83,
   "metadata": {},
   "outputs": [],
   "source": [
    "for i in range(0,len(data.columns)-2):    \n",
    "    P5['VarPorc_R%d'%(i+1)] = ((P5['R%d'%(i+1)]-Rm[i])/Rm[i])* 100\n",
    "    P5['VarPorc_W%d'%(i+1)] = ((P5['W%d'%(i+1)]-wsp[i])/wsp[i])* 100\n",
    "P5['VarPorc_Var'] = ((P5['Var']-varp)/varp)* 100"
   ]
  },
  {
   "cell_type": "code",
   "execution_count": 84,
   "metadata": {},
   "outputs": [
    {
     "data": {
      "text/html": [
       "<div>\n",
       "<style scoped>\n",
       "    .dataframe tbody tr th:only-of-type {\n",
       "        vertical-align: middle;\n",
       "    }\n",
       "\n",
       "    .dataframe tbody tr th {\n",
       "        vertical-align: top;\n",
       "    }\n",
       "\n",
       "    .dataframe thead th {\n",
       "        text-align: right;\n",
       "    }\n",
       "</style>\n",
       "<table border=\"1\" class=\"dataframe\">\n",
       "  <thead>\n",
       "    <tr style=\"text-align: right;\">\n",
       "      <th></th>\n",
       "      <th>R1</th>\n",
       "      <th>R2</th>\n",
       "      <th>R3</th>\n",
       "      <th>R4</th>\n",
       "      <th>R5</th>\n",
       "      <th>W1</th>\n",
       "      <th>W2</th>\n",
       "      <th>W3</th>\n",
       "      <th>W4</th>\n",
       "      <th>W5</th>\n",
       "      <th>Var</th>\n",
       "      <th>VarPorc_R1</th>\n",
       "      <th>VarPorc_W1</th>\n",
       "      <th>VarPorc_R2</th>\n",
       "      <th>VarPorc_W2</th>\n",
       "      <th>VarPorc_R3</th>\n",
       "      <th>VarPorc_W3</th>\n",
       "      <th>VarPorc_Var</th>\n",
       "    </tr>\n",
       "  </thead>\n",
       "  <tbody>\n",
       "    <tr>\n",
       "      <th>0</th>\n",
       "      <td>0.000783</td>\n",
       "      <td>0.000728</td>\n",
       "      <td>0.000675</td>\n",
       "      <td>0.001262</td>\n",
       "      <td>0.000610</td>\n",
       "      <td>47.904999</td>\n",
       "      <td>-7.073622</td>\n",
       "      <td>-18.708532</td>\n",
       "      <td>66.147124</td>\n",
       "      <td>-87.269969</td>\n",
       "      <td>5.422300</td>\n",
       "      <td>-10.377147</td>\n",
       "      <td>258.228764</td>\n",
       "      <td>-41.964335</td>\n",
       "      <td>-110.700808</td>\n",
       "      <td>18.819519</td>\n",
       "      <td>-76.160297</td>\n",
       "      <td>154.491067</td>\n",
       "    </tr>\n",
       "    <tr>\n",
       "      <th>1</th>\n",
       "      <td>0.000912</td>\n",
       "      <td>0.001248</td>\n",
       "      <td>0.000640</td>\n",
       "      <td>0.001659</td>\n",
       "      <td>0.000800</td>\n",
       "      <td>10.841639</td>\n",
       "      <td>41.329727</td>\n",
       "      <td>-53.849919</td>\n",
       "      <td>24.265010</td>\n",
       "      <td>-21.586456</td>\n",
       "      <td>1.699466</td>\n",
       "      <td>4.459702</td>\n",
       "      <td>-18.927317</td>\n",
       "      <td>-0.510259</td>\n",
       "      <td>-37.477366</td>\n",
       "      <td>12.623974</td>\n",
       "      <td>-31.380716</td>\n",
       "      <td>-20.236995</td>\n",
       "    </tr>\n",
       "    <tr>\n",
       "      <th>2</th>\n",
       "      <td>0.001178</td>\n",
       "      <td>0.001204</td>\n",
       "      <td>0.000776</td>\n",
       "      <td>0.002228</td>\n",
       "      <td>0.000733</td>\n",
       "      <td>23.565894</td>\n",
       "      <td>11.013014</td>\n",
       "      <td>-20.922612</td>\n",
       "      <td>23.060854</td>\n",
       "      <td>-35.717150</td>\n",
       "      <td>0.906822</td>\n",
       "      <td>34.933723</td>\n",
       "      <td>76.223387</td>\n",
       "      <td>-3.974493</td>\n",
       "      <td>-83.339772</td>\n",
       "      <td>36.611680</td>\n",
       "      <td>-73.338963</td>\n",
       "      <td>-57.439066</td>\n",
       "    </tr>\n",
       "    <tr>\n",
       "      <th>3</th>\n",
       "      <td>0.000748</td>\n",
       "      <td>0.001197</td>\n",
       "      <td>-0.000062</td>\n",
       "      <td>0.001784</td>\n",
       "      <td>0.000395</td>\n",
       "      <td>12.858824</td>\n",
       "      <td>20.225368</td>\n",
       "      <td>-32.547313</td>\n",
       "      <td>10.063850</td>\n",
       "      <td>-9.600729</td>\n",
       "      <td>0.454667</td>\n",
       "      <td>-14.375672</td>\n",
       "      <td>-3.843010</td>\n",
       "      <td>-4.577281</td>\n",
       "      <td>-69.403542</td>\n",
       "      <td>-110.941176</td>\n",
       "      <td>-58.525967</td>\n",
       "      <td>-78.660590</td>\n",
       "    </tr>\n",
       "    <tr>\n",
       "      <th>4</th>\n",
       "      <td>0.000999</td>\n",
       "      <td>0.001047</td>\n",
       "      <td>0.000849</td>\n",
       "      <td>0.001626</td>\n",
       "      <td>0.000605</td>\n",
       "      <td>30.081203</td>\n",
       "      <td>19.066746</td>\n",
       "      <td>0.830981</td>\n",
       "      <td>28.318077</td>\n",
       "      <td>-77.297008</td>\n",
       "      <td>1.744735</td>\n",
       "      <td>14.451322</td>\n",
       "      <td>124.944213</td>\n",
       "      <td>-16.533357</td>\n",
       "      <td>-71.156278</td>\n",
       "      <td>49.441153</td>\n",
       "      <td>-101.058894</td>\n",
       "      <td>-18.112359</td>\n",
       "    </tr>\n",
       "  </tbody>\n",
       "</table>\n",
       "</div>"
      ],
      "text/plain": [
       "         R1        R2        R3        R4        R5         W1         W2  \\\n",
       "0  0.000783  0.000728  0.000675  0.001262  0.000610  47.904999  -7.073622   \n",
       "1  0.000912  0.001248  0.000640  0.001659  0.000800  10.841639  41.329727   \n",
       "2  0.001178  0.001204  0.000776  0.002228  0.000733  23.565894  11.013014   \n",
       "3  0.000748  0.001197 -0.000062  0.001784  0.000395  12.858824  20.225368   \n",
       "4  0.000999  0.001047  0.000849  0.001626  0.000605  30.081203  19.066746   \n",
       "\n",
       "          W3         W4         W5       Var  VarPorc_R1  VarPorc_W1  \\\n",
       "0 -18.708532  66.147124 -87.269969  5.422300  -10.377147  258.228764   \n",
       "1 -53.849919  24.265010 -21.586456  1.699466    4.459702  -18.927317   \n",
       "2 -20.922612  23.060854 -35.717150  0.906822   34.933723   76.223387   \n",
       "3 -32.547313  10.063850  -9.600729  0.454667  -14.375672   -3.843010   \n",
       "4   0.830981  28.318077 -77.297008  1.744735   14.451322  124.944213   \n",
       "\n",
       "   VarPorc_R2  VarPorc_W2  VarPorc_R3  VarPorc_W3  VarPorc_Var  \n",
       "0  -41.964335 -110.700808   18.819519  -76.160297   154.491067  \n",
       "1   -0.510259  -37.477366   12.623974  -31.380716   -20.236995  \n",
       "2   -3.974493  -83.339772   36.611680  -73.338963   -57.439066  \n",
       "3   -4.577281  -69.403542 -110.941176  -58.525967   -78.660590  \n",
       "4  -16.533357  -71.156278   49.441153 -101.058894   -18.112359  "
      ]
     },
     "execution_count": 84,
     "metadata": {},
     "output_type": "execute_result"
    }
   ],
   "source": [
    "P5.head()"
   ]
  },
  {
   "cell_type": "code",
   "execution_count": 85,
   "metadata": {},
   "outputs": [],
   "source": [
    "P5.to_csv('5assets_sample(5000).csv')"
   ]
  },
  {
   "cell_type": "code",
   "execution_count": 2,
   "metadata": {},
   "outputs": [],
   "source": [
    "#P8 = port(10000,1000,len(data.columns))"
   ]
  },
  {
   "cell_type": "code",
   "execution_count": null,
   "metadata": {},
   "outputs": [],
   "source": [
    "P9 = port(15000,1000,len(data.columns))"
   ]
  },
  {
   "cell_type": "code",
   "execution_count": 12,
   "metadata": {},
   "outputs": [
    {
     "name": "stdout",
     "output_type": "stream",
     "text": [
      "34774\n"
     ]
    }
   ],
   "source": [
    "P7 = port(5000,10000,len(data.columns))"
   ]
  },
  {
   "cell_type": "code",
   "execution_count": 15,
   "metadata": {},
   "outputs": [
    {
     "data": {
      "text/plain": [
       "R1     7.043806e-08\n",
       "R2     1.086600e-07\n",
       "R3     5.727907e-08\n",
       "R4     2.382264e-07\n",
       "R5     5.893863e-08\n",
       "W1     4.618134e+02\n",
       "W2     3.428647e+02\n",
       "W3     5.272165e+02\n",
       "W4     1.083529e+02\n",
       "W5     6.373512e+02\n",
       "Var    1.301472e+00\n",
       "dtype: float64"
      ]
     },
     "execution_count": 15,
     "metadata": {},
     "output_type": "execute_result"
    }
   ],
   "source": [
    "P7.var()"
   ]
  }
 ],
 "metadata": {
  "kernelspec": {
   "display_name": "Python 3",
   "language": "python",
   "name": "python3"
  },
  "language_info": {
   "codemirror_mode": {
    "name": "ipython",
    "version": 3
   },
   "file_extension": ".py",
   "mimetype": "text/x-python",
   "name": "python",
   "nbconvert_exporter": "python",
   "pygments_lexer": "ipython3",
   "version": "3.7.4"
  }
 },
 "nbformat": 4,
 "nbformat_minor": 2
}
