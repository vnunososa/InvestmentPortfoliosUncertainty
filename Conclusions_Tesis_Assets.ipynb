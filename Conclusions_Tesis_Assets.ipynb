{
 "cells": [
  {
   "cell_type": "code",
   "execution_count": 1,
   "metadata": {},
   "outputs": [],
   "source": [
    "import pandas as pd\n",
    "import matplotlib.pyplot as plt\n",
    "import numpy as np"
   ]
  },
  {
   "cell_type": "code",
   "execution_count": 17,
   "metadata": {},
   "outputs": [],
   "source": [
    "def output(df):\n",
    "    return list([round(np.percentile(df,5),3),round(np.percentile(df,95),3),round(abs(np.percentile(df,5)-np.percentile(df,95)),6)])"
   ]
  },
  {
   "cell_type": "code",
   "execution_count": 18,
   "metadata": {},
   "outputs": [],
   "source": [
    "P1 = pd.read_csv('3assets_sample(5000).csv')\n",
    "P2 = pd.read_csv('6assets_sample(5000).csv')\n",
    "P3 = pd.read_csv('9assets_sample(5000).csv')\n",
    "P4 = pd.read_csv('12assets_sample(5000).csv')\n",
    "P5 = pd.read_csv('15assets_sample(5000).csv')"
   ]
  },
  {
   "cell_type": "code",
   "execution_count": 19,
   "metadata": {},
   "outputs": [
    {
     "name": "stdout",
     "output_type": "stream",
     "text": [
      "('R1', [0.0, 0.001, 0.00082])\n",
      "('R2', [0.001, 0.002, 0.001088])\n",
      "('R3', [0.0, 0.001, 0.000786])\n",
      "('W1', [-55.182, 85.67, 140.852494])\n",
      "('W2', [22.521, 133.154, 110.633266])\n",
      "('W3', [-149.398, -24.289, 125.108532])\n",
      "('Var', [0.719, 11.641, 10.921494])\n",
      "('VarPorc_R1', [-49.379, 44.519, 93.897959])\n",
      "('VarPorc_W1', [-512.649, 540.632, 1053.280778])\n",
      "('VarPorc_R2', [-44.161, 42.623, 86.784044])\n",
      "('VarPorc_W2', [-65.93, 101.433, 167.36339])\n",
      "('VarPorc_R3', [-72.33, 66.039, 138.369341])\n",
      "('VarPorc_W3', [-69.049, 90.373, 159.421928])\n",
      "('VarPorc_Var', [-66.249, 446.343, 512.59111])\n"
     ]
    }
   ],
   "source": [
    "for i in P1.columns:\n",
    "    print(i,output(P1[i]))"
   ]
  },
  {
   "cell_type": "code",
   "execution_count": 20,
   "metadata": {},
   "outputs": [
    {
     "name": "stdout",
     "output_type": "stream",
     "text": [
      "('Unnamed: 0', [49.95, 949.05, 899.1])\n",
      "('R1', [0.0, 0.001, 0.000868])\n",
      "('R2', [0.001, 0.002, 0.001083])\n",
      "('R3', [0.0, 0.001, 0.000813])\n",
      "('R4', [0.001, 0.003, 0.001557])\n",
      "('R5', [0.0, 0.001, 0.000823])\n",
      "('R6', [-0.0, 0.0, 0.000645])\n",
      "('W1', [0.725, 29.266, 28.541853])\n",
      "('W2', [2.991, 27.011, 24.019881])\n",
      "('W3', [-14.333, 20.137, 34.470423])\n",
      "('W4', [2.412, 16.084, 13.671965])\n",
      "('W5', [-19.09, 15.115, 34.204628])\n",
      "('W6', [-54.033, -23.279, 30.753454])\n",
      "('Var', [0.25, 0.836, 0.585949])\n",
      "('VarPorc_R1', [-47.49, 51.88, 99.369295])\n",
      "('VarPorc_W1', [-95.514, 81.217, 176.731174])\n",
      "('VarPorc_R2', [-42.629, 43.756, 86.385341])\n",
      "('VarPorc_W2', [-80.918, 72.304, 153.222107])\n",
      "('VarPorc_R3', [-70.165, 73.033, 143.197555])\n",
      "('VarPorc_W3', [-621.787, 633.054, 1254.841656])\n",
      "('VarPorc_R4', [-45.209, 43.953, 89.162624])\n",
      "('VarPorc_W4', [-75.931, 60.495, 136.425871])\n",
      "('VarPorc_R5', [-61.402, 63.539, 124.940915])\n",
      "('VarPorc_W5', [-1502.954, 1671.94, 3174.893867])\n",
      "('VarPorc_R6', [-642.828, 657.062, 1299.88948])\n",
      "('VarPorc_W6', [-45.248, 27.083, 72.331182])\n",
      "('VarPorc_Var', [-49.771, 67.921, 117.69166])\n"
     ]
    }
   ],
   "source": [
    "for i in P2.columns:\n",
    "    print(i,output(P2[i]))"
   ]
  },
  {
   "cell_type": "code",
   "execution_count": 21,
   "metadata": {},
   "outputs": [
    {
     "name": "stdout",
     "output_type": "stream",
     "text": [
      "('Unnamed: 0', [49.95, 949.05, 899.1])\n",
      "('R1', [0.0, 0.001, 0.000883])\n",
      "('R2', [0.001, 0.002, 0.001018])\n",
      "('R3', [0.0, 0.001, 0.000787])\n",
      "('R4', [0.001, 0.003, 0.001616])\n",
      "('R5', [0.0, 0.001, 0.000796])\n",
      "('R6', [-0.0, 0.0, 0.000631])\n",
      "('R7', [-0.0, 0.0, 0.000644])\n",
      "('R8', [-0.0, 0.001, 0.00085])\n",
      "('R9', [-0.0, 0.001, 0.000854])\n",
      "('W1', [3.631, 25.279, 21.64749])\n",
      "('W2', [3.129, 21.568, 18.438853])\n",
      "('W3', [-5.381, 23.983, 29.364564])\n",
      "('W4', [1.433, 12.024, 10.590859])\n",
      "('W5', [-11.229, 15.247, 26.476493])\n",
      "('W6', [-33.748, -3.627, 30.120804])\n",
      "('W7', [-27.943, -1.074, 26.868102])\n",
      "('W8', [-18.626, 8.804, 27.42974])\n",
      "('W9', [-18.909, 5.916, 24.824314])\n",
      "('Var', [0.212, 0.585, 0.372843])\n",
      "('VarPorc_R1', [-50.909, 50.23, 101.139388])\n",
      "('VarPorc_W1', [-79.036, 45.935, 124.971154])\n",
      "('VarPorc_R2', [-40.961, 40.187, 81.147846])\n",
      "('VarPorc_W2', [-77.666, 53.939, 131.605403])\n",
      "('VarPorc_R3', [-70.316, 68.18, 138.495812])\n",
      "('VarPorc_W3', [-152.033, 131.905, 283.937662])\n",
      "('VarPorc_R4', [-46.713, 45.793, 92.505831])\n",
      "('VarPorc_W4', [-82.63, 45.735, 128.365794])\n",
      "('VarPorc_R5', [-59.522, 61.349, 120.87048])\n",
      "('VarPorc_W5', [-467.11, 398.476, 865.585866])\n",
      "('VarPorc_R6', [-656.38, 613.79, 1270.1696])\n",
      "('VarPorc_W6', [-83.501, 53.528, 137.029004])\n",
      "('VarPorc_R7', [-1661.361, 1799.304, 3460.665133])\n",
      "('VarPorc_W7', [-93.73, 63.065, 156.794625])\n",
      "('VarPorc_R8', [-138.399, 135.339, 273.738726])\n",
      "('VarPorc_W8', [-263.406, 245.722, 509.12787])\n",
      "('VarPorc_R9', [-163.015, 170.751, 333.76582])\n",
      "('VarPorc_W9', [-179.097, 152.816, 331.913768])\n",
      "('VarPorc_Var', [-48.373, 42.437, 90.809622])\n"
     ]
    }
   ],
   "source": [
    "for i in P3.columns:\n",
    "    print(i,output(P3[i]))"
   ]
  },
  {
   "cell_type": "code",
   "execution_count": 22,
   "metadata": {},
   "outputs": [
    {
     "name": "stdout",
     "output_type": "stream",
     "text": [
      "('Unnamed: 0', [49.95, 949.05, 899.1])\n",
      "('R1', [0.0, 0.001, 0.000884])\n",
      "('R2', [0.001, 0.002, 0.001067])\n",
      "('R3', [0.0, 0.001, 0.000772])\n",
      "('R4', [0.001, 0.002, 0.001536])\n",
      "('R5', [0.0, 0.001, 0.000841])\n",
      "('R6', [-0.0, 0.0, 0.000611])\n",
      "('R7', [-0.0, 0.0, 0.000627])\n",
      "('R8', [-0.0, 0.001, 0.000846])\n",
      "('R9', [-0.0, 0.001, 0.000828])\n",
      "('R10', [-0.001, 0.0, 0.001253])\n",
      "('R11', [-0.0, 0.001, 0.000785])\n",
      "('R12', [0.0, 0.001, 0.00099])\n",
      "('W1', [4.424, 23.156, 18.731749])\n",
      "('W2', [1.585, 17.833, 16.248496])\n",
      "('W3', [-5.596, 19.645, 25.241733])\n",
      "('W4', [1.242, 10.745, 9.503423])\n",
      "('W5', [-9.779, 13.283, 23.062149])\n",
      "('W6', [-26.887, -0.961, 25.926151])\n",
      "('W7', [-24.023, 1.289, 25.311289])\n",
      "('W8', [-16.254, 7.875, 24.128593])\n",
      "('W9', [-16.566, 6.112, 22.678004])\n",
      "('W10', [-9.856, 0.71, 10.565542])\n",
      "('W11', [-16.308, 8.798, 25.105427])\n",
      "('W12', [-4.116, 15.0, 19.116096])\n",
      "('Var', [0.19, 0.505, 0.315083])\n",
      "('VarPorc_R1', [-49.95, 51.263, 101.213125])\n",
      "('VarPorc_W1', [-73.39, 39.27, 112.659598])\n",
      "('VarPorc_R2', [-43.972, 41.1, 85.071746])\n",
      "('VarPorc_W2', [-86.996, 46.35, 133.345966])\n",
      "('VarPorc_R3', [-71.463, 64.511, 135.973872])\n",
      "('VarPorc_W3', [-161.3, 115.189, 276.489474])\n",
      "('VarPorc_R4', [-45.777, 42.177, 87.954184])\n",
      "('VarPorc_W4', [-83.669, 41.286, 124.955619])\n",
      "('VarPorc_R5', [-67.72, 59.947, 127.667212])\n",
      "('VarPorc_W5', [-487.104, 425.834, 912.938233])\n",
      "('VarPorc_R6', [-604.542, 625.07, 1229.612467])\n",
      "('VarPorc_W6', [-94.803, 45.454, 140.2571])\n",
      "('VarPorc_R7', [-1686.658, 1680.411, 3367.069034])\n",
      "('VarPorc_W7', [-109.157, 70.706, 179.862984])\n",
      "('VarPorc_R8', [-139.173, 133.57, 272.742892])\n",
      "('VarPorc_W8', [-262.411, 235.239, 497.649896])\n",
      "('VarPorc_R9', [-159.392, 164.487, 323.879278])\n",
      "('VarPorc_W9', [-190.415, 145.047, 335.461891])\n",
      "('VarPorc_R10', [-477.734, 550.627, 1028.360633])\n",
      "('VarPorc_W10', [-112.048, 67.275, 179.322685])\n",
      "('VarPorc_R11', [-128.236, 121.933, 250.169363])\n",
      "('VarPorc_W11', [-314.909, 298.375, 613.283388])\n",
      "('VarPorc_R12', [-72.695, 66.109, 138.803948])\n",
      "('VarPorc_W12', [-158.148, 111.91, 270.058008])\n",
      "('VarPorc_Var', [-49.199, 35.026, 84.224181])\n"
     ]
    }
   ],
   "source": [
    "for i in P4.columns:\n",
    "    print(i,output(P4[i]))"
   ]
  },
  {
   "cell_type": "code",
   "execution_count": 23,
   "metadata": {},
   "outputs": [
    {
     "name": "stdout",
     "output_type": "stream",
     "text": [
      "('Unnamed: 0', [49.95, 949.05, 899.1])\n",
      "('R1', [0.0, 0.001, 0.000893])\n",
      "('R2', [0.001, 0.002, 0.001122])\n",
      "('R3', [0.0, 0.001, 0.000804])\n",
      "('R4', [0.001, 0.003, 0.001588])\n",
      "('R5', [0.0, 0.001, 0.000803])\n",
      "('R6', [-0.0, 0.0, 0.000629])\n",
      "('R7', [-0.0, 0.0, 0.000613])\n",
      "('R8', [-0.0, 0.001, 0.000824])\n",
      "('R9', [-0.0, 0.001, 0.000856])\n",
      "('R10', [-0.001, 0.0, 0.001252])\n",
      "('R11', [-0.0, 0.001, 0.000779])\n",
      "('R12', [0.0, 0.001, 0.000961])\n",
      "('R13', [0.001, 0.002, 0.001272])\n",
      "('R14', [-0.0, 0.001, 0.000935])\n",
      "('R15', [-0.0, 0.001, 0.001065])\n",
      "('W1', [2.762, 18.698, 15.935857])\n",
      "('W2', [1.089, 14.229, 13.139536])\n",
      "('W3', [-3.826, 17.039, 20.865178])\n",
      "('W4', [0.929, 8.48, 7.550617])\n",
      "('W5', [-8.578, 10.663, 19.241915])\n",
      "('W6', [-21.159, 0.491, 21.649575])\n",
      "('W7', [-17.96, 2.461, 20.420488])\n",
      "('W8', [-15.242, 5.704, 20.945765])\n",
      "('W9', [-13.972, 4.898, 18.869733])\n",
      "('W10', [-8.679, 0.786, 9.464412])\n",
      "('W11', [-12.112, 7.532, 19.644445])\n",
      "('W12', [-4.229, 12.062, 16.291233])\n",
      "('W13', [1.454, 12.344, 10.890135])\n",
      "('W14', [-11.315, 2.744, 14.059237])\n",
      "('W15', [-8.311, 4.655, 12.966403])\n",
      "('Var', [0.165, 0.393, 0.228133])\n",
      "('VarPorc_R1', [-50.181, 52.053, 102.234102])\n",
      "('VarPorc_W1', [-80.328, 33.164, 113.492264])\n",
      "('VarPorc_R2', [-44.035, 45.431, 89.465214])\n",
      "('VarPorc_W2', [-89.206, 41.007, 130.212818])\n",
      "('VarPorc_R3', [-73.612, 67.861, 141.472489])\n",
      "('VarPorc_W3', [-144.836, 99.697, 244.533402])\n",
      "('VarPorc_R4', [-44.975, 45.962, 90.937209])\n",
      "('VarPorc_W4', [-84.829, 38.494, 123.322607])\n",
      "('VarPorc_R5', [-60.943, 60.88, 121.822845])\n",
      "('VarPorc_W5', [-736.042, 690.631, 1426.673434])\n",
      "('VarPorc_R6', [-622.682, 644.997, 1267.679078])\n",
      "('VarPorc_W6', [-103.595, 55.043, 158.637785])\n",
      "('VarPorc_R7', [-1639.628, 1655.255, 3294.883354])\n",
      "('VarPorc_W7', [-123.791, 73.639, 197.429748])\n",
      "('VarPorc_R8', [-136.835, 128.845, 265.679856])\n",
      "('VarPorc_W8', [-189.988, 140.468, 330.455987])\n",
      "('VarPorc_R9', [-158.764, 176.03, 334.793397])\n",
      "('VarPorc_W9', [-177.233, 120.306, 297.539102])\n",
      "('VarPorc_R10', [-505.687, 521.398, 1027.084323])\n",
      "('VarPorc_W10', [-115.385, 69.931, 185.315735])\n",
      "('VarPorc_R11', [-118.94, 129.523, 248.463359])\n",
      "('VarPorc_W11', [-321.675, 256.444, 578.119156])\n",
      "('VarPorc_R12', [-66.714, 68.068, 134.781489])\n",
      "('VarPorc_W12', [-190.324, 157.588, 347.911816])\n",
      "('VarPorc_R13', [-52.451, 50.054, 102.504696])\n",
      "('VarPorc_W13', [-83.326, 41.534, 124.860772])\n",
      "('VarPorc_R14', [-852.868, 804.483, 1657.35055])\n",
      "('VarPorc_W14', [-151.695, 113.138, 264.833199])\n",
      "('VarPorc_R15', [-361.731, 354.396, 716.126368])\n",
      "('VarPorc_W15', [-326.415, 304.247, 630.662399])\n",
      "('VarPorc_Var', [-49.154, 21.21, 70.364184])\n"
     ]
    }
   ],
   "source": [
    "for i in P5.columns:\n",
    "    print(i,output(P5[i]))"
   ]
  },
  {
   "cell_type": "code",
   "execution_count": 40,
   "metadata": {},
   "outputs": [
    {
     "data": {
      "image/png": "[encoded data removed]",
      "text/plain": [
       "<matplotlib.figure.Figure at 0x113574f90>"
      ]
     },
     "metadata": {},
     "output_type": "display_data"
    }
   ],
   "source": [
    "plt.plot([3,4,6,9,12,15],[10.921,3.646219,0.586, 0.373, 0.315, 0.228], 'o-')\n",
    "plt.xlabel(\"# de Activos en el Portafolio\")\n",
    "plt.ylabel(\"Longitud del Intervalo\")\n",
    "plt.savefig('CurvaVarianza', dpi = 1000)\n",
    "plt.show()"
   ]
  },
  {
   "cell_type": "code",
   "execution_count": 41,
   "metadata": {},
   "outputs": [
    {
     "data": {
      "image/png": "[encoded data removed]",
      "text/plain": [
       "<matplotlib.figure.Figure at 0x109bf53d0>"
      ]
     },
     "metadata": {},
     "output_type": "display_data"
    }
   ],
   "source": [
    "plt.plot([3,4,6,9,12,15],[140.852494,73.550494,28.541853,21.64749, 18.731749, 15.935857], 'o-')\n",
    "plt.xlabel(\"# de Activos en el Portafolio\")\n",
    "plt.ylabel(\"Longitud del Intervalo\")\n",
    "plt.savefig('CurvaW1', dpi = 1000)\n",
    "plt.show()"
   ]
  },
  {
   "cell_type": "code",
   "execution_count": 42,
   "metadata": {},
   "outputs": [
    {
     "data": {
      "image/png": "[encoded data removed]",
      "text/plain": [
       "<matplotlib.figure.Figure at 0x10abd6c50>"
      ]
     },
     "metadata": {},
     "output_type": "display_data"
    }
   ],
   "source": [
    "plt.plot([3,4,6,9,12,15],[110.633266,71.736333,24.019881,18.438853,16.248496, 13.139536], 'o-')\n",
    "plt.xlabel(\"# de Activos en el Portafolio\")\n",
    "plt.ylabel(\"Longitud del Intervalo\")\n",
    "plt.savefig('CurvaW2', dpi = 1000)\n",
    "plt.show()"
   ]
  },
  {
   "cell_type": "code",
   "execution_count": 33,
   "metadata": {},
   "outputs": [],
   "source": [
    "P6 = pd.read_csv('4assets_sample(5000).csv')"
   ]
  },
  {
   "cell_type": "code",
   "execution_count": 34,
   "metadata": {},
   "outputs": [
    {
     "name": "stdout",
     "output_type": "stream",
     "text": [
      "('Unnamed: 0', [49.95, 949.05, 899.1])\n",
      "('R1', [0.0, 0.001, 0.000914])\n",
      "('R2', [0.001, 0.002, 0.00108])\n",
      "('R3', [0.0, 0.001, 0.000794])\n",
      "('R4', [0.001, 0.003, 0.001627])\n",
      "('W1', [-32.88, 40.671, 73.550494])\n",
      "('W2', [-4.503, 67.233, 71.736333])\n",
      "('W3', [-94.324, -18.09, 76.23386])\n",
      "('W4', [2.449, 42.444, 39.994478])\n",
      "('Var', [0.511, 4.158, 3.646219])\n"
     ]
    }
   ],
   "source": [
    "for i in P6.columns:\n",
    "    print(i,output(P6[i]))"
   ]
  },
  {
   "cell_type": "code",
   "execution_count": 36,
   "metadata": {},
   "outputs": [],
   "source": [
    "P7 = pd.read_csv('5assets_sample(5000).csv')"
   ]
  },
  {
   "cell_type": "code",
   "execution_count": 37,
   "metadata": {},
   "outputs": [
    {
     "name": "stdout",
     "output_type": "stream",
     "text": [
      "('Unnamed: 0', [49.95, 949.05, 899.1])\n",
      "('R1', [0.0, 0.001, 0.000887])\n",
      "('R2', [0.001, 0.002, 0.001068])\n",
      "('R3', [0.0, 0.001, 0.000774])\n",
      "('R4', [0.001, 0.003, 0.001566])\n",
      "('R5', [0.0, 0.001, 0.000783])\n",
      "('W1', [-20.145, 44.542, 64.687113])\n",
      "('W2', [4.033, 56.274, 52.241363])\n",
      "('W3', [-66.336, 3.057, 69.393267])\n",
      "('W4', [3.46, 32.363, 28.902311])\n",
      "('W5', [-64.243, 10.502, 74.744803])\n",
      "('Var', [0.457, 2.77, 2.312961])\n"
     ]
    }
   ],
   "source": [
    "for i in P7.columns:\n",
    "    print(i,output(P7[i]))"
   ]
  },
  {
   "cell_type": "code",
   "execution_count": null,
   "metadata": {},
   "outputs": [],
   "source": []
  }
 ],
 "metadata": {
  "kernelspec": {
   "display_name": "Python 3",
   "language": "python",
   "name": "python3"
  },
  "language_info": {
   "codemirror_mode": {
    "name": "ipython",
    "version": 3
   },
   "file_extension": ".py",
   "mimetype": "text/x-python",
   "name": "python",
   "nbconvert_exporter": "python",
   "pygments_lexer": "ipython3",
   "version": "3.7.4"
  }
 },
 "nbformat": 4,
 "nbformat_minor": 2
}
