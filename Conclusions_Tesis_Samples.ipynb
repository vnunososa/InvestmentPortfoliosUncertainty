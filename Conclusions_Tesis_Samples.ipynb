{
 "cells": [
  {
   "cell_type": "code",
   "execution_count": 1,
   "metadata": {},
   "outputs": [],
   "source": [
    "import pandas as pd\n",
    "import numpy as np\n",
    "import matplotlib.pyplot as plt\n",
    "import seaborn as sns"
   ]
  },
  {
   "cell_type": "markdown",
   "metadata": {},
   "source": [
    "# three assets"
   ]
  },
  {
   "cell_type": "markdown",
   "metadata": {},
   "source": [
    "# sample size: 1000"
   ]
  },
  {
   "cell_type": "code",
   "execution_count": 2,
   "metadata": {},
   "outputs": [],
   "source": [
    "P1 = pd.read_csv('3assets_sample(1000).csv')"
   ]
  },
  {
   "cell_type": "code",
   "execution_count": 3,
   "metadata": {},
   "outputs": [
    {
     "data": {
      "text/html": [
       "<div>\n",
       "<style scoped>\n",
       "    .dataframe tbody tr th:only-of-type {\n",
       "        vertical-align: middle;\n",
       "    }\n",
       "\n",
       "    .dataframe tbody tr th {\n",
       "        vertical-align: top;\n",
       "    }\n",
       "\n",
       "    .dataframe thead th {\n",
       "        text-align: right;\n",
       "    }\n",
       "</style>\n",
       "<table border=\"1\" class=\"dataframe\">\n",
       "  <thead>\n",
       "    <tr style=\"text-align: right;\">\n",
       "      <th></th>\n",
       "      <th>Unnamed: 0</th>\n",
       "      <th>R1</th>\n",
       "      <th>R2</th>\n",
       "      <th>R3</th>\n",
       "      <th>W1</th>\n",
       "      <th>W2</th>\n",
       "      <th>W3</th>\n",
       "      <th>Var</th>\n",
       "      <th>VarPorc_R1</th>\n",
       "      <th>VarPorc_R2</th>\n",
       "      <th>VarPorc_R3</th>\n",
       "      <th>VarPorc_W1</th>\n",
       "      <th>VarPorc_W2</th>\n",
       "      <th>VarPorc_W3</th>\n",
       "      <th>VarPorc_Var</th>\n",
       "    </tr>\n",
       "  </thead>\n",
       "  <tbody>\n",
       "    <tr>\n",
       "      <th>0</th>\n",
       "      <td>0</td>\n",
       "      <td>0.000781</td>\n",
       "      <td>0.002851</td>\n",
       "      <td>0.001252</td>\n",
       "      <td>-15.962024</td>\n",
       "      <td>25.776444</td>\n",
       "      <td>-8.814420</td>\n",
       "      <td>0.260651</td>\n",
       "      <td>-10.599366</td>\n",
       "      <td>127.360436</td>\n",
       "      <td>120.468221</td>\n",
       "      <td>-219.362409</td>\n",
       "      <td>-61.006005</td>\n",
       "      <td>-88.768058</td>\n",
       "      <td>-87.766560</td>\n",
       "    </tr>\n",
       "    <tr>\n",
       "      <th>1</th>\n",
       "      <td>1</td>\n",
       "      <td>0.000235</td>\n",
       "      <td>0.001924</td>\n",
       "      <td>0.001132</td>\n",
       "      <td>-32.057240</td>\n",
       "      <td>25.376779</td>\n",
       "      <td>7.680461</td>\n",
       "      <td>0.420456</td>\n",
       "      <td>-73.095167</td>\n",
       "      <td>53.441807</td>\n",
       "      <td>99.343336</td>\n",
       "      <td>-339.720815</td>\n",
       "      <td>-61.610609</td>\n",
       "      <td>-109.786974</td>\n",
       "      <td>-80.266263</td>\n",
       "    </tr>\n",
       "    <tr>\n",
       "      <th>2</th>\n",
       "      <td>2</td>\n",
       "      <td>0.000823</td>\n",
       "      <td>0.000687</td>\n",
       "      <td>0.000238</td>\n",
       "      <td>63.722992</td>\n",
       "      <td>27.727882</td>\n",
       "      <td>-90.450874</td>\n",
       "      <td>2.103053</td>\n",
       "      <td>-5.739660</td>\n",
       "      <td>-45.191898</td>\n",
       "      <td>-58.149021</td>\n",
       "      <td>376.514123</td>\n",
       "      <td>-58.053916</td>\n",
       "      <td>15.258747</td>\n",
       "      <td>-1.295002</td>\n",
       "    </tr>\n",
       "    <tr>\n",
       "      <th>3</th>\n",
       "      <td>3</td>\n",
       "      <td>0.001235</td>\n",
       "      <td>0.000947</td>\n",
       "      <td>0.000027</td>\n",
       "      <td>31.305728</td>\n",
       "      <td>13.210063</td>\n",
       "      <td>-43.515791</td>\n",
       "      <td>0.496451</td>\n",
       "      <td>41.463749</td>\n",
       "      <td>-24.456537</td>\n",
       "      <td>-95.217744</td>\n",
       "      <td>134.101085</td>\n",
       "      <td>-80.016129</td>\n",
       "      <td>-44.549175</td>\n",
       "      <td>-76.699512</td>\n",
       "    </tr>\n",
       "    <tr>\n",
       "      <th>4</th>\n",
       "      <td>4</td>\n",
       "      <td>0.000415</td>\n",
       "      <td>0.000834</td>\n",
       "      <td>0.000318</td>\n",
       "      <td>-19.184330</td>\n",
       "      <td>99.840024</td>\n",
       "      <td>-79.655694</td>\n",
       "      <td>3.543295</td>\n",
       "      <td>-52.523272</td>\n",
       "      <td>-33.498144</td>\n",
       "      <td>-44.051387</td>\n",
       "      <td>-243.458492</td>\n",
       "      <td>51.035628</td>\n",
       "      <td>1.502784</td>\n",
       "      <td>66.301571</td>\n",
       "    </tr>\n",
       "  </tbody>\n",
       "</table>\n",
       "</div>"
      ],
      "text/plain": [
       "   Unnamed: 0        R1        R2        R3         W1         W2         W3  \\\n",
       "0           0  0.000781  0.002851  0.001252 -15.962024  25.776444  -8.814420   \n",
       "1           1  0.000235  0.001924  0.001132 -32.057240  25.376779   7.680461   \n",
       "2           2  0.000823  0.000687  0.000238  63.722992  27.727882 -90.450874   \n",
       "3           3  0.001235  0.000947  0.000027  31.305728  13.210063 -43.515791   \n",
       "4           4  0.000415  0.000834  0.000318 -19.184330  99.840024 -79.655694   \n",
       "\n",
       "        Var  VarPorc_R1  VarPorc_R2  VarPorc_R3  VarPorc_W1  VarPorc_W2  \\\n",
       "0  0.260651  -10.599366  127.360436  120.468221 -219.362409  -61.006005   \n",
       "1  0.420456  -73.095167   53.441807   99.343336 -339.720815  -61.610609   \n",
       "2  2.103053   -5.739660  -45.191898  -58.149021  376.514123  -58.053916   \n",
       "3  0.496451   41.463749  -24.456537  -95.217744  134.101085  -80.016129   \n",
       "4  3.543295  -52.523272  -33.498144  -44.051387 -243.458492   51.035628   \n",
       "\n",
       "   VarPorc_W3  VarPorc_Var  \n",
       "0  -88.768058   -87.766560  \n",
       "1 -109.786974   -80.266263  \n",
       "2   15.258747    -1.295002  \n",
       "3  -44.549175   -76.699512  \n",
       "4    1.502784    66.301571  "
      ]
     },
     "execution_count": 3,
     "metadata": {},
     "output_type": "execute_result"
    }
   ],
   "source": [
    "P1.head()"
   ]
  },
  {
   "cell_type": "code",
   "execution_count": 4,
   "metadata": {},
   "outputs": [
    {
     "data": {
      "text/plain": [
       "Index([u'Unnamed: 0', u'R1', u'R2', u'R3', u'W1', u'W2', u'W3', u'Var',\n",
       "       u'VarPorc_R1', u'VarPorc_R2', u'VarPorc_R3', u'VarPorc_W1',\n",
       "       u'VarPorc_W2', u'VarPorc_W3', u'VarPorc_Var'],\n",
       "      dtype='object')"
      ]
     },
     "execution_count": 4,
     "metadata": {},
     "output_type": "execute_result"
    }
   ],
   "source": [
    "P1.columns"
   ]
  },
  {
   "cell_type": "code",
   "execution_count": 5,
   "metadata": {},
   "outputs": [],
   "source": [
    "P1 = P1[['R1', 'R2', 'R3', 'W1', 'W2', 'W3', 'Var',\n",
    "       'VarPorc_R1', 'VarPorc_R2', 'VarPorc_R3', 'VarPorc_W1',\n",
    "       'VarPorc_W2', 'VarPorc_W3', 'VarPorc_Var']].copy()"
   ]
  },
  {
   "cell_type": "code",
   "execution_count": 8,
   "metadata": {},
   "outputs": [],
   "source": [
    "P2 = pd.read_csv('3assets_sample(5000).csv')\n",
    "P3 = pd.read_csv('3assets_sample(10000).csv')\n",
    "P4 = pd.read_csv('3assets_sample(15000).csv')\n",
    "P5 = pd.read_csv('3assets_sample(20000).csv')"
   ]
  },
  {
   "cell_type": "code",
   "execution_count": 9,
   "metadata": {},
   "outputs": [],
   "source": [
    "P2 = P2[['R1', 'R2', 'R3', 'W1', 'W2', 'W3', 'Var',\n",
    "       'VarPorc_R1', 'VarPorc_R2', 'VarPorc_R3', 'VarPorc_W1',\n",
    "       'VarPorc_W2', 'VarPorc_W3', 'VarPorc_Var']].copy()\n",
    "P3 = P3[['R1', 'R2', 'R3', 'W1', 'W2', 'W3', 'Var',\n",
    "       'VarPorc_R1', 'VarPorc_R2', 'VarPorc_R3', 'VarPorc_W1',\n",
    "       'VarPorc_W2', 'VarPorc_W3', 'VarPorc_Var']].copy()\n",
    "P4 = P4[['R1', 'R2', 'R3', 'W1', 'W2', 'W3', 'Var',\n",
    "       'VarPorc_R1', 'VarPorc_R2', 'VarPorc_R3', 'VarPorc_W1',\n",
    "       'VarPorc_W2', 'VarPorc_W3', 'VarPorc_Var']].copy()\n",
    "P5 = P5[['R1', 'R2', 'R3', 'W1', 'W2', 'W3', 'Var',\n",
    "       'VarPorc_R1', 'VarPorc_R2', 'VarPorc_R3', 'VarPorc_W1',\n",
    "       'VarPorc_W2', 'VarPorc_W3', 'VarPorc_Var']].copy()"
   ]
  },
  {
   "cell_type": "code",
   "execution_count": 10,
   "metadata": {},
   "outputs": [
    {
     "data": {
      "text/plain": [
       "Text(0.5,1,u'Distribucion de la Varianza del Portafolio')"
      ]
     },
     "execution_count": 10,
     "metadata": {},
     "output_type": "execute_result"
    },
    {
     "data": {
      "image/png": "[encoded data removed]",
      "text/plain": [
       "<matplotlib.figure.Figure at 0x1a0fb126d0>"
      ]
     },
     "metadata": {},
     "output_type": "display_data"
    }
   ],
   "source": [
    "%matplotlib inline\n",
    "P1['Var'].hist(bins = range(0,15), alpha = 0.5, label = \"muestra = 1000\")\n",
    "P2['Var'].hist(bins = range(0,15), alpha = 0.5, label = \"muestra = 5000\")\n",
    "P3['Var'].hist(bins = range(0,15), alpha = 0.5, label = \"muestra = 10000\")\n",
    "P4['Var'].hist(bins = range(0,15), alpha = 0.5, label = \"muestra = 15000\")\n",
    "P5['Var'].hist(bins = range(0,15), alpha = 0.5, label = \"muestra = 20000\")\n",
    "plt.legend()\n",
    "\n",
    "plt.rcParams['figure.figsize'] = (50,32)\n",
    "plt.xlabel(\"Varianza\")\n",
    "plt.ylabel(\"Frecuencia\")\n",
    "plt.title(\"Distribucion de la Varianza del Portafolio\")\n",
    "#plt.savefig('/Text/3assets_sample(1000)_Var.png',dpi = 1000, transparent = True, quality = 99)"
   ]
  },
  {
   "cell_type": "code",
   "execution_count": 166,
   "metadata": {},
   "outputs": [
    {
     "data": {
      "image/png": "[encoded data removed]",
      "text/plain": [
       "<matplotlib.figure.Figure at 0x1a26f90150>"
      ]
     },
     "metadata": {},
     "output_type": "display_data"
    }
   ],
   "source": [
    "%matplotlib inline\n",
    "bns = []\n",
    "x1 = -0.0005\n",
    "x2 = 0.003\n",
    "x = x1\n",
    "while x <= x2:\n",
    "    bns.append(x)\n",
    "    x = x + (x2-x1)/20\n",
    "\n",
    "P1['R1'].hist(normed = 1, alpha = 0.5, label = \"muestra = 1000\", bins = bns)\n",
    "P2['R1'].hist(normed = 1, alpha = 0.5, label = \"muestra = 5000\", bins = bns)\n",
    "P3['R1'].hist(normed = 1, alpha = 0.5, label = \"muestra = 10000\", bins = bns)\n",
    "P4['R1'].hist(normed = 1, alpha = 0.5, label = \"muestra = 15000\", bins = bns)\n",
    "P5['R1'].hist(normed = 1, alpha = 0.5, label = \"muestra = 20000\", bins = bns)\n",
    "plt.legend()\n",
    "\n",
    "plt.rcParams['figure.figsize'] = (50,32)\n",
    "plt.xlabel(\"Rendimiento Activo 1\")\n",
    "plt.ylabel(\"Frecuencia\")\n",
    "#plt.title(\"Distribucion del Rendimiento del Activo 1\")\n",
    "plt.savefig('3assets_sample(AllSamples)_R1.png',dpi = 1000)"
   ]
  },
  {
   "cell_type": "code",
   "execution_count": 167,
   "metadata": {},
   "outputs": [
    {
     "data": {
      "image/png": "[encoded data removed]",
      "text/plain": [
       "<matplotlib.figure.Figure at 0x1a2707add0>"
      ]
     },
     "metadata": {},
     "output_type": "display_data"
    }
   ],
   "source": [
    "%matplotlib inline\n",
    "bnsw1 = []\n",
    "x1 = min(P4['W1'])\n",
    "x2 = max(P4['W1'])\n",
    "x = x1\n",
    "while x <= x2:\n",
    "    bnsw1.append(x)\n",
    "    x = x + (x2-x1)/20\n",
    "\n",
    "P1['W1'].hist(alpha = 0.5, label = \"muestra = 1000\", normed = 1, bins = bnsw1)\n",
    "P2['W1'].hist(alpha = 0.5, label = \"muestra = 5000\", normed = 1, bins = bnsw1)\n",
    "P3['W1'].hist(alpha = 0.5, label = \"muestra = 10000\", normed = 1, bins = bnsw1)\n",
    "P4['W1'].hist(alpha = 0.5, label = \"muestra = 15000\", normed = 1, bins = bnsw1)\n",
    "P5['W1'].hist(alpha = 0.5, label = \"muestra = 20000\", normed = 1, bins = bnsw1)\n",
    "plt.legend()\n",
    "\n",
    "plt.rcParams['figure.figsize'] = (50,32)\n",
    "plt.xlabel(\"Proporcion del Activo 1\")\n",
    "plt.ylabel(\"Frecuencia\")\n",
    "#plt.title(\"Distribucion de la Proporcion del Activo 1\")\n",
    "plt.savefig('3assets_sample(AllSamples)_W1.png',dpi = 1000)"
   ]
  },
  {
   "cell_type": "code",
   "execution_count": 168,
   "metadata": {},
   "outputs": [
    {
     "data": {
      "image/png": "[encoded data removed]",
      "text/plain": [
       "<matplotlib.figure.Figure at 0x1a270aa710>"
      ]
     },
     "metadata": {},
     "output_type": "display_data"
    }
   ],
   "source": [
    "%matplotlib inline\n",
    "bnsvar = []\n",
    "x1 = min(P5['Var'])\n",
    "x2 = max(P5['Var'])-25\n",
    "x = x1\n",
    "while x <= x2:\n",
    "    bnsvar.append(x)\n",
    "    x = x + (x2-x1)/20\n",
    "\n",
    "P1['Var'].hist(alpha = 0.5, label = \"muestra = 1000\",normed = 1, bins = bnsvar)\n",
    "P2['Var'].hist(alpha = 0.5, label = \"muestra = 5000\", normed = 1, bins = bnsvar)\n",
    "P3['Var'].hist(alpha = 0.5, label = \"muestra = 10000\", normed = 1, bins = bnsvar)\n",
    "P4['Var'].hist(alpha = 0.5, label = \"muestra = 15000\", normed = 1, bins = bnsvar)\n",
    "P5['Var'].hist(alpha = 0.5, label = \"muestra = 20000\", normed = 1, bins = bnsvar)\n",
    "plt.legend()\n",
    "\n",
    "plt.rcParams['figure.figsize'] = (50,32)\n",
    "plt.xlabel(\"Varianza del Portafolio\")\n",
    "plt.ylabel(\"Frecuencia\")\n",
    "#plt.title(\"Distribucion de la Varianza del Portafolio\")\n",
    "plt.savefig('3assets_sample(AllSamples)_Var.png',dpi = 1000)"
   ]
  },
  {
   "cell_type": "code",
   "execution_count": 172,
   "metadata": {},
   "outputs": [
    {
     "data": {
      "image/png": "[encoded data removed]",
      "text/plain": [
       "<matplotlib.figure.Figure at 0x1a2641ec90>"
      ]
     },
     "metadata": {},
     "output_type": "display_data"
    }
   ],
   "source": [
    "%matplotlib inline\n",
    "bnsR2 = []\n",
    "x1 = min(P1['R2'])\n",
    "x2 = max(P1['R2'])\n",
    "x = x1\n",
    "while x <= x2:\n",
    "    bnsR2.append(x)\n",
    "    x = x + (x2-x1)/20\n",
    "\n",
    "P1['R2'].hist(normed = 1, alpha = 0.5, label = \"muestra = 1000\", bins = bnsR2)\n",
    "P2['R2'].hist(normed = 1, alpha = 0.5, label = \"muestra = 5000\", bins = bnsR2)\n",
    "P3['R2'].hist(normed = 1, alpha = 0.5, label = \"muestra = 10000\", bins = bnsR2)\n",
    "P4['R2'].hist(normed = 1, alpha = 0.5, label = \"muestra = 15000\", bins = bnsR2)\n",
    "P5['R2'].hist(normed = 1, alpha = 0.5, label = \"muestra = 20000\", bins = bnsR2)\n",
    "plt.legend()\n",
    "\n",
    "plt.rcParams['figure.figsize'] = (50,32)\n",
    "plt.xlabel(\"Rendimiento Activo 2\")\n",
    "plt.ylabel(\"Frecuencia\")\n",
    "#plt.title(\"Distribucion del Rendimiento del Activo 1\")\n",
    "plt.savefig('3assets_sample(AllSamples)_R2.png',dpi = 1000)"
   ]
  },
  {
   "cell_type": "code",
   "execution_count": 181,
   "metadata": {},
   "outputs": [
    {
     "data": {
      "image/png": "[encoded data removed]",
      "text/plain": [
       "<matplotlib.figure.Figure at 0x1a260bd810>"
      ]
     },
     "metadata": {},
     "output_type": "display_data"
    }
   ],
   "source": [
    "%matplotlib inline\n",
    "bnsw2 = []\n",
    "x1 = min(P4['W2'])\n",
    "x2 = max(P4['W2'])\n",
    "x = x1\n",
    "while x <= x2:\n",
    "    bnsw2.append(x)\n",
    "    x = x + (x2-x1)/20\n",
    "\n",
    "P1['W2'].hist(alpha = 0.5, label = \"muestra = 1000\", normed = 1, bins = bnsw2)\n",
    "P2['W2'].hist(alpha = 0.5, label = \"muestra = 5000\", normed = 1, bins = bnsw2)\n",
    "P3['W2'].hist(alpha = 0.5, label = \"muestra = 10000\", normed = 1, bins = bnsw2)\n",
    "P4['W2'].hist(alpha = 0.5, label = \"muestra = 15000\", normed = 1, bins = bnsw2)\n",
    "P5['W2'].hist(alpha = 0.5, label = \"muestra = 20000\", normed = 1, bins = bnsw2)\n",
    "plt.legend()\n",
    "\n",
    "plt.rcParams['figure.figsize'] = (50,32)\n",
    "plt.xlabel(\"Proporcion del Activo 2\")\n",
    "plt.ylabel(\"Frecuencia\")\n",
    "#plt.title(\"Distribucion de la Proporcion del Activo 1\")\n",
    "plt.savefig('3assets_sample(AllSamples)_W2.png',dpi = 1000)"
   ]
  },
  {
   "cell_type": "code",
   "execution_count": 183,
   "metadata": {},
   "outputs": [
    {
     "data": {
      "image/png": "[encoded data removed]",
      "text/plain": [
       "<matplotlib.figure.Figure at 0x1a25f46b90>"
      ]
     },
     "metadata": {},
     "output_type": "display_data"
    }
   ],
   "source": [
    "%matplotlib inline\n",
    "bnsR3 = []\n",
    "x1 = min(P1['R3'])\n",
    "x2 = max(P1['R3'])\n",
    "x = x1\n",
    "while x <= x2:\n",
    "    bnsR3.append(x)\n",
    "    x = x + (x2-x1)/20\n",
    "\n",
    "P1['R3'].hist(normed = 1, alpha = 0.5, label = \"muestra = 1000\", bins = bnsR3)\n",
    "P2['R3'].hist(normed = 1, alpha = 0.5, label = \"muestra = 5000\", bins = bnsR3)\n",
    "P3['R3'].hist(normed = 1, alpha = 0.5, label = \"muestra = 10000\", bins = bnsR3)\n",
    "P4['R3'].hist(normed = 1, alpha = 0.5, label = \"muestra = 15000\", bins = bnsR3)\n",
    "P5['R3'].hist(normed = 1, alpha = 0.5, label = \"muestra = 20000\", bins = bnsR3)\n",
    "plt.legend()\n",
    "\n",
    "plt.rcParams['figure.figsize'] = (50,32)\n",
    "plt.xlabel(\"Rendimiento Activo 3\")\n",
    "plt.ylabel(\"Frecuencia\")\n",
    "#plt.title(\"Distribucion del Rendimiento del Activo 1\")\n",
    "plt.savefig('3assets_sample(AllSamples)_R3.png',dpi = 1000)"
   ]
  },
  {
   "cell_type": "code",
   "execution_count": 186,
   "metadata": {},
   "outputs": [
    {
     "data": {
      "image/png": "[encoded data removed]",
      "text/plain": [
       "<matplotlib.figure.Figure at 0x1a273838d0>"
      ]
     },
     "metadata": {},
     "output_type": "display_data"
    }
   ],
   "source": [
    "%matplotlib inline\n",
    "bnsw3 = []\n",
    "x1 = min(P4['W3'])+100\n",
    "x2 = max(P4['W3'])\n",
    "x = x1\n",
    "while x <= x2:\n",
    "    bnsw3.append(x)\n",
    "    x = x + (x2-x1)/20\n",
    "\n",
    "P1['W3'].hist(alpha = 0.5, label = \"muestra = 1000\", normed = 1, bins = bnsw3)\n",
    "P2['W3'].hist(alpha = 0.5, label = \"muestra = 5000\", normed = 1, bins = bnsw3)\n",
    "P3['W3'].hist(alpha = 0.5, label = \"muestra = 10000\", normed = 1, bins = bnsw3)\n",
    "P4['W3'].hist(alpha = 0.5, label = \"muestra = 15000\", normed = 1, bins = bnsw3)\n",
    "P5['W3'].hist(alpha = 0.5, label = \"muestra = 20000\", normed = 1, bins = bnsw3)\n",
    "plt.legend()\n",
    "\n",
    "plt.rcParams['figure.figsize'] = (50,32)\n",
    "plt.xlabel(\"Proporcion del Activo 3\")\n",
    "plt.ylabel(\"Frecuencia\")\n",
    "#plt.title(\"Distribucion de la Proporcion del Activo 1\")\n",
    "plt.savefig('3assets_sample(AllSamples)_W3.png',dpi = 1000)"
   ]
  },
  {
   "cell_type": "code",
   "execution_count": 73,
   "metadata": {},
   "outputs": [
    {
     "data": {
      "image/png": "[encoded data removed]",
      "text/plain": [
       "<matplotlib.figure.Figure at 0x1a18e81910>"
      ]
     },
     "metadata": {},
     "output_type": "display_data"
    }
   ],
   "source": [
    "%matplotlib inline\n",
    "P1['R1'].hist(normed = 1)\n",
    "plt.xlabel(\"Rendimiento de Activo 1\")\n",
    "plt.ylabel(\"Frecuencia\")\n",
    "#plt.title(\"Distribucion de la Variacion Porcentual del Rendimiento de Activo 1\")\n",
    "plt.savefig('Hist_R1(3assets_1000)', dpi = 1000)"
   ]
  },
  {
   "cell_type": "code",
   "execution_count": 83,
   "metadata": {},
   "outputs": [
    {
     "data": {
      "image/png": "[encoded data removed]",
      "text/plain": [
       "<matplotlib.figure.Figure at 0x1a1a7b34d0>"
      ]
     },
     "metadata": {},
     "output_type": "display_data"
    }
   ],
   "source": [
    "b = []\n",
    "x1 = min(P1['W1'])+200\n",
    "x2 = max(P1['W1'])-500\n",
    "x = x1\n",
    "while x <= x2:\n",
    "    b.append(x)\n",
    "    x = x + (x2-x1)/20\n",
    "\n",
    "%matplotlib inline\n",
    "P1['W1'].hist(normed = 1, bins = b)\n",
    "plt.xlabel(\"Proporcion para Activo 1\")\n",
    "plt.ylabel(\"Frecuencia\")\n",
    "#plt.title(\"Distribucion de la Variacion Porcentual del Rendimiento de Activo 1\")\n",
    "plt.savefig('Hist_W1(3assets_1000)', dpi = 1000)"
   ]
  },
  {
   "cell_type": "code",
   "execution_count": 86,
   "metadata": {},
   "outputs": [
    {
     "data": {
      "image/png": "[encoded data removed]",
      "text/plain": [
       "<matplotlib.figure.Figure at 0x1a1ab4c990>"
      ]
     },
     "metadata": {},
     "output_type": "display_data"
    }
   ],
   "source": [
    "b = []\n",
    "x1 = min(P1['VarPorc_R1'])\n",
    "x2 = max(P1['VarPorc_R1'])\n",
    "x = x1\n",
    "while x <= x2:\n",
    "    b.append(x)\n",
    "    x = x + (x2-x1)/20\n",
    "\n",
    "%matplotlib inline\n",
    "P1['VarPorc_R1'].hist(normed = 1, bins = b)\n",
    "plt.xlabel(\"Var. Porcentual de Rendimiento de Activo 1\")\n",
    "plt.ylabel(\"Frecuencia\")\n",
    "#plt.title(\"Distribucion de la Variacion Porcentual del Rendimiento de Activo 1\")\n",
    "plt.savefig('Hist_VarPorcR1(3assets_1000)', dpi = 1000)"
   ]
  },
  {
   "cell_type": "code",
   "execution_count": 89,
   "metadata": {},
   "outputs": [
    {
     "data": {
      "image/png": "[encoded data removed]",
      "text/plain": [
       "<matplotlib.figure.Figure at 0x1a1a7dca10>"
      ]
     },
     "metadata": {},
     "output_type": "display_data"
    }
   ],
   "source": [
    "b = []\n",
    "x1 = min(P1['VarPorc_W1'])+2000\n",
    "x2 = max(P1['VarPorc_W1'])-4000\n",
    "x = x1\n",
    "while x <= x2:\n",
    "    b.append(x)\n",
    "    x = x + (x2-x1)/20\n",
    "\n",
    "%matplotlib inline\n",
    "P1['VarPorc_W1'].hist(normed = 1, bins = b)\n",
    "plt.xlabel(\"Var. Porcentual de la Proporcion de Activo 1\")\n",
    "plt.ylabel(\"Frecuencia\")\n",
    "#plt.title(\"Distribucion de la Variacion Porcentual del Rendimiento de Activo 1\")\n",
    "plt.savefig('Hist_VarPorcW1(3assets_1000)', dpi = 1000)"
   ]
  },
  {
   "cell_type": "code",
   "execution_count": 98,
   "metadata": {},
   "outputs": [
    {
     "data": {
      "image/png": "[encoded data removed]",
      "text/plain": [
       "<matplotlib.figure.Figure at 0x1a1b518090>"
      ]
     },
     "metadata": {},
     "output_type": "display_data"
    }
   ],
   "source": [
    "b = []\n",
    "x1 = min(P1['Var'])\n",
    "x2 = max(P1['Var'])-620\n",
    "x = x1\n",
    "while x <= x2:\n",
    "    b.append(x)\n",
    "    x = x + (x2-x1)/20\n",
    "    \n",
    "%matplotlib inline\n",
    "P1['Var'].hist(normed = 1, bins = b)\n",
    "plt.xlabel(\"Varianza del Portafolio\")\n",
    "plt.ylabel(\"Frecuencia\")\n",
    "#plt.title(\"Distribucion de la Variacion Porcentual del Rendimiento de Activo 1\")\n",
    "plt.savefig('Hist_Var(3assets_1000)', dpi = 1000)"
   ]
  },
  {
   "cell_type": "code",
   "execution_count": 128,
   "metadata": {},
   "outputs": [
    {
     "data": {
      "image/png": "[encoded data removed]",
      "text/plain": [
       "<matplotlib.figure.Figure at 0x1a1e2fb990>"
      ]
     },
     "metadata": {},
     "output_type": "display_data"
    }
   ],
   "source": [
    "b = []\n",
    "x1 = min(P1['VarPorc_Var'])-100\n",
    "x2 = max(P1['VarPorc_Var'])-29200\n",
    "x = x1\n",
    "while x <= x2:\n",
    "    b.append(x)\n",
    "    x = x + (x2-x1)/30\n",
    "    \n",
    "%matplotlib inline\n",
    "P1['VarPorc_Var'].hist(normed = 1, bins = b)\n",
    "plt.xlabel(\"Dist. Porcentual de Varianza del Portafolio\")\n",
    "plt.ylabel(\"Frecuencia\")\n",
    "#plt.title(\"Distribucion de la Variacion Porcentual del Rendimiento de Activo 1\")\n",
    "plt.savefig('Hist_VarPorc_Var(3assets_1000)', dpi = 1000)"
   ]
  },
  {
   "cell_type": "code",
   "execution_count": 135,
   "metadata": {},
   "outputs": [
    {
     "data": {
      "image/png": "[encoded data removed]",
      "text/plain": [
       "<matplotlib.figure.Figure at 0x1a1ef64c90>"
      ]
     },
     "metadata": {},
     "output_type": "display_data"
    }
   ],
   "source": [
    "b = []\n",
    "x1 = min(P2['R1'])\n",
    "x2 = max(P2['R1'])\n",
    "x = x1\n",
    "while x <= x2:\n",
    "    b.append(x)\n",
    "    x = x + (x2-x1)/20\n",
    "\n",
    "%matplotlib inline\n",
    "P2['R1'].hist(normed = 1, color = \"red\", bins = b, alpha = 0.7)\n",
    "plt.xlabel(\"Rendimiento de Activo 1\")\n",
    "plt.ylabel(\"Frecuencia\")\n",
    "plt.savefig('Hist_R1(3assets_5000)', dpi = 1000)"
   ]
  },
  {
   "cell_type": "code",
   "execution_count": 140,
   "metadata": {},
   "outputs": [
    {
     "data": {
      "image/png": "[encoded data removed]",
      "text/plain": [
       "<matplotlib.figure.Figure at 0x1a1f127f10>"
      ]
     },
     "metadata": {},
     "output_type": "display_data"
    }
   ],
   "source": [
    "b = []\n",
    "x1 = min(P2['W1'])+550\n",
    "x2 = max(P2['W1'])-1100\n",
    "x = x1\n",
    "while x <= x2:\n",
    "    b.append(x)\n",
    "    x = x + (x2-x1)/20\n",
    "    \n",
    "%matplotlib inline\n",
    "P2['W1'].hist(alpha = 0.7, color = \"red\", bins = b, normed = 1)\n",
    "plt.xlabel(\"Proporcion de Activo 1\")\n",
    "plt.ylabel(\"Frecuencia\")\n",
    "plt.savefig('Hist_W1(3assets_5000)', dpi = 1000)"
   ]
  },
  {
   "cell_type": "code",
   "execution_count": 148,
   "metadata": {},
   "outputs": [
    {
     "data": {
      "image/png": "[encoded data removed]",
      "text/plain": [
       "<matplotlib.figure.Figure at 0x1a1f03ad90>"
      ]
     },
     "metadata": {},
     "output_type": "display_data"
    }
   ],
   "source": [
    "b = []\n",
    "x1 = min(P2['Var'])\n",
    "x2 = max(P2['Var'])-459\n",
    "x = x1\n",
    "while x <= x2:\n",
    "    b.append(x)\n",
    "    x = x + (x2-x1)/20\n",
    "    \n",
    "%matplotlib inline\n",
    "P2['Var'].hist(normed = 1, bins = b, color = \"red\", alpha = 0.7)\n",
    "plt.xlabel(\"Varianza del Portafolio\")\n",
    "plt.ylabel(\"Frecuencia\")\n",
    "#plt.title(\"Distribucion de la Variacion Porcentual del Rendimiento de Activo 1\")\n",
    "plt.savefig('Hist_Var(3assets_5000)', dpi = 1000)"
   ]
  },
  {
   "cell_type": "code",
   "execution_count": null,
   "metadata": {},
   "outputs": [],
   "source": [
    "%matplotlib inline\n",
    "P1['W1'].hist(alpha = 0.5, label = \"muestra = 1000\")\n",
    "P2['W1'].hist(alpha = 0.5, label = \"muestra = 5000\")\n",
    "P3['W1'].hist(alpha = 0.5, label = \"muestra = 10000\")\n",
    "P4['W1'].hist(alpha = 0.5, label = \"muestra = 15000\")\n",
    "P5['W1'].hist(alpha = 0.5, label = \"muestra = 20000\")\n",
    "plt.legend()\n",
    "\n",
    "plt.rcParams['figure.figsize'] = (50,32)\n",
    "plt.xlabel(\"Varianza\")\n",
    "plt.ylabel(\"Frecuencia\")\n",
    "plt.title(\"Distribucion de la Varianza del Portafolio\")\n",
    "#plt.savefig('/Text/3assets_sample(1000)_Var.png',dpi = 1000, transparent = True, quality = 99)"
   ]
  },
  {
   "cell_type": "code",
   "execution_count": null,
   "metadata": {},
   "outputs": [],
   "source": []
  },
  {
   "cell_type": "code",
   "execution_count": null,
   "metadata": {},
   "outputs": [],
   "source": []
  },
  {
   "cell_type": "code",
   "execution_count": null,
   "metadata": {},
   "outputs": [],
   "source": []
  },
  {
   "cell_type": "code",
   "execution_count": null,
   "metadata": {},
   "outputs": [],
   "source": []
  },
  {
   "cell_type": "code",
   "execution_count": 255,
   "metadata": {},
   "outputs": [
    {
     "name": "stdout",
     "output_type": "stream",
     "text": [
      "(8.6802732565299e-06, 0.0024803302730477183, 0.0024716499997911884)\n",
      "(-99.3078583513172, 97.77486649671314, 197.08272484803035)\n"
     ]
    }
   ],
   "source": [
    "print(np.percentile(P1['R2'],5),np.percentile(P1['R2'],95),abs(np.percentile(P1['R2'],95)-np.percentile(P1['R2'],5)))\n",
    "print(np.percentile(P1['VarPorc_R2'],5),np.percentile(P1['VarPorc_R2'],95),abs(np.percentile(P1['VarPorc_R2'],95)-np.percentile(P1['VarPorc_R2'],5)))"
   ]
  },
  {
   "cell_type": "code",
   "execution_count": 257,
   "metadata": {},
   "outputs": [
    {
     "name": "stdout",
     "output_type": "stream",
     "text": [
      "(-0.0004188613119536264, 0.0014972363321288454, 0.0019160976440824717)\n",
      "(-173.73811691531577, 163.579816415698, 337.31793333101376)\n"
     ]
    }
   ],
   "source": [
    "print(np.percentile(P1['R3'],5),np.percentile(P1['R3'],95),abs(np.percentile(P1['R3'],95)-np.percentile(P1['R3'],5)))\n",
    "print(np.percentile(P1['VarPorc_R3'],5),np.percentile(P1['VarPorc_R3'],95),abs(np.percentile(P1['VarPorc_R3'],95)-np.percentile(P1['VarPorc_R3'],5)))"
   ]
  },
  {
   "cell_type": "code",
   "execution_count": 258,
   "metadata": {},
   "outputs": [
    {
     "name": "stdout",
     "output_type": "stream",
     "text": [
      "(-105.98093801797803, 98.26262867939153, 204.24356669736954)\n",
      "(-892.5147909847998, 634.7980503461364, 1527.3128413309362)\n"
     ]
    }
   ],
   "source": [
    "print(np.percentile(P1['W1'],5),np.percentile(P1['W1'],95),abs(np.percentile(P1['W1'],95)-np.percentile(P1['W1'],5)))\n",
    "print(np.percentile(P1['VarPorc_W1'],5),np.percentile(P1['VarPorc_W1'],95),abs(np.percentile(P1['VarPorc_W1'],95)-np.percentile(P1['VarPorc_W1'],5)))"
   ]
  },
  {
   "cell_type": "code",
   "execution_count": 259,
   "metadata": {},
   "outputs": [
    {
     "name": "stdout",
     "output_type": "stream",
     "text": [
      "(-66.43669395090517, 115.92355923566866, 182.36025318657383)\n",
      "(-200.50385996811525, 75.36641984377995, 275.8702798118952)\n"
     ]
    }
   ],
   "source": [
    "print(np.percentile(P1['W2'],5),np.percentile(P1['W2'],95),abs(np.percentile(P1['W2'],95)-np.percentile(P1['W2'],5)))\n",
    "print(np.percentile(P1['VarPorc_W2'],5),np.percentile(P1['VarPorc_W2'],95),abs(np.percentile(P1['VarPorc_W2'],95)-np.percentile(P1['VarPorc_W2'],5)))"
   ]
  },
  {
   "cell_type": "code",
   "execution_count": 260,
   "metadata": {},
   "outputs": [
    {
     "name": "stdout",
     "output_type": "stream",
     "text": [
      "(-136.5695100193908, 88.29789398505591, 224.8674040044467)\n",
      "(-212.51527190208256, 74.02629734256865, 286.5415692446512)\n"
     ]
    }
   ],
   "source": [
    "print(np.percentile(P1['W3'],5),np.percentile(P1['W3'],95),abs(np.percentile(P1['W3'],95)-np.percentile(P1['W3'],5)))\n",
    "print(np.percentile(P1['VarPorc_W3'],5),np.percentile(P1['VarPorc_W3'],95),abs(np.percentile(P1['VarPorc_W3'],95)-np.percentile(P1['VarPorc_W3'],5)))"
   ]
  },
  {
   "cell_type": "code",
   "execution_count": 304,
   "metadata": {},
   "outputs": [
    {
     "name": "stdout",
     "output_type": "stream",
     "text": [
      "('R1', [-0.00011, 0.00186, 0.00197])\n",
      "('R2', [1e-05, 0.00248, 0.00247])\n",
      "('R3', [-0.00042, 0.0015, 0.00192])\n",
      "('W1', [-105.98094, 98.26263, 204.24357])\n",
      "('W2', [-66.43669, 115.92356, 182.36025])\n",
      "('W3', [-136.56951, 88.29789, 224.8674])\n",
      "('Var', [0.26188, 14.14025, 13.87837])\n",
      "('VarPorc_R1', [-112.4845, 112.83749, 225.32199])\n",
      "('VarPorc_R2', [-99.30786, 97.77487, 197.08272])\n",
      "('VarPorc_R3', [-173.73812, 163.57982, 337.31793])\n",
      "('VarPorc_W1', [-892.51479, 634.79805, 1527.31284])\n",
      "('VarPorc_W2', [-200.50386, 75.36642, 275.87028])\n",
      "('VarPorc_W3', [-212.51527, 74.0263, 286.54157])\n",
      "('VarPorc_Var', [-87.70878, 563.66088, 651.36967])\n"
     ]
    }
   ],
   "source": [
    "for i in P1.columns:\n",
    "    print(i,output(P1[i]))"
   ]
  },
  {
   "cell_type": "markdown",
   "metadata": {},
   "source": [
    "# sample size: 5000"
   ]
  },
  {
   "cell_type": "code",
   "execution_count": 8,
   "metadata": {},
   "outputs": [],
   "source": [
    "P2 = pd.read_csv('3assets_sample(5000).csv')"
   ]
  },
  {
   "cell_type": "code",
   "execution_count": 9,
   "metadata": {},
   "outputs": [
    {
     "data": {
      "text/html": [
       "<div>\n",
       "<style scoped>\n",
       "    .dataframe tbody tr th:only-of-type {\n",
       "        vertical-align: middle;\n",
       "    }\n",
       "\n",
       "    .dataframe tbody tr th {\n",
       "        vertical-align: top;\n",
       "    }\n",
       "\n",
       "    .dataframe thead th {\n",
       "        text-align: right;\n",
       "    }\n",
       "</style>\n",
       "<table border=\"1\" class=\"dataframe\">\n",
       "  <thead>\n",
       "    <tr style=\"text-align: right;\">\n",
       "      <th></th>\n",
       "      <th>R1</th>\n",
       "      <th>R2</th>\n",
       "      <th>R3</th>\n",
       "      <th>W1</th>\n",
       "      <th>W2</th>\n",
       "      <th>W3</th>\n",
       "      <th>Var</th>\n",
       "      <th>VarPorc_R1</th>\n",
       "      <th>VarPorc_W1</th>\n",
       "      <th>VarPorc_R2</th>\n",
       "      <th>VarPorc_W2</th>\n",
       "      <th>VarPorc_R3</th>\n",
       "      <th>VarPorc_W3</th>\n",
       "      <th>VarPorc_Var</th>\n",
       "    </tr>\n",
       "  </thead>\n",
       "  <tbody>\n",
       "    <tr>\n",
       "      <th>0</th>\n",
       "      <td>0.000658</td>\n",
       "      <td>0.001049</td>\n",
       "      <td>0.000213</td>\n",
       "      <td>16.168496</td>\n",
       "      <td>50.967315</td>\n",
       "      <td>-66.135811</td>\n",
       "      <td>1.364312</td>\n",
       "      <td>-24.597102</td>\n",
       "      <td>20.906386</td>\n",
       "      <td>-16.391030</td>\n",
       "      <td>-22.897850</td>\n",
       "      <td>-62.503468</td>\n",
       "      <td>-15.725184</td>\n",
       "      <td>-35.967167</td>\n",
       "    </tr>\n",
       "    <tr>\n",
       "      <th>1</th>\n",
       "      <td>0.001028</td>\n",
       "      <td>0.001156</td>\n",
       "      <td>0.000591</td>\n",
       "      <td>42.646044</td>\n",
       "      <td>54.518341</td>\n",
       "      <td>-96.164385</td>\n",
       "      <td>2.421061</td>\n",
       "      <td>17.738310</td>\n",
       "      <td>218.902828</td>\n",
       "      <td>-7.842382</td>\n",
       "      <td>-17.525943</td>\n",
       "      <td>4.072940</td>\n",
       "      <td>22.539298</td>\n",
       "      <td>13.630462</td>\n",
       "    </tr>\n",
       "    <tr>\n",
       "      <th>2</th>\n",
       "      <td>0.001156</td>\n",
       "      <td>0.001372</td>\n",
       "      <td>0.000674</td>\n",
       "      <td>31.952770</td>\n",
       "      <td>48.647148</td>\n",
       "      <td>-79.599918</td>\n",
       "      <td>1.781331</td>\n",
       "      <td>32.349612</td>\n",
       "      <td>138.939599</td>\n",
       "      <td>9.367903</td>\n",
       "      <td>-26.407744</td>\n",
       "      <td>18.648380</td>\n",
       "      <td>1.431711</td>\n",
       "      <td>-16.394721</td>\n",
       "    </tr>\n",
       "    <tr>\n",
       "      <th>3</th>\n",
       "      <td>0.000626</td>\n",
       "      <td>0.001343</td>\n",
       "      <td>0.000619</td>\n",
       "      <td>-24.943177</td>\n",
       "      <td>68.512352</td>\n",
       "      <td>-42.569175</td>\n",
       "      <td>1.718262</td>\n",
       "      <td>-28.301475</td>\n",
       "      <td>-286.522565</td>\n",
       "      <td>7.056798</td>\n",
       "      <td>3.643866</td>\n",
       "      <td>9.058262</td>\n",
       "      <td>-45.755419</td>\n",
       "      <td>-19.354829</td>\n",
       "    </tr>\n",
       "    <tr>\n",
       "      <th>4</th>\n",
       "      <td>0.000822</td>\n",
       "      <td>0.001039</td>\n",
       "      <td>0.000394</td>\n",
       "      <td>32.389116</td>\n",
       "      <td>55.338753</td>\n",
       "      <td>-86.727869</td>\n",
       "      <td>2.179296</td>\n",
       "      <td>-5.829264</td>\n",
       "      <td>142.202550</td>\n",
       "      <td>-17.118546</td>\n",
       "      <td>-16.284842</td>\n",
       "      <td>-30.677375</td>\n",
       "      <td>10.514638</td>\n",
       "      <td>2.283407</td>\n",
       "    </tr>\n",
       "  </tbody>\n",
       "</table>\n",
       "</div>"
      ],
      "text/plain": [
       "         R1        R2        R3         W1         W2         W3       Var  \\\n",
       "0  0.000658  0.001049  0.000213  16.168496  50.967315 -66.135811  1.364312   \n",
       "1  0.001028  0.001156  0.000591  42.646044  54.518341 -96.164385  2.421061   \n",
       "2  0.001156  0.001372  0.000674  31.952770  48.647148 -79.599918  1.781331   \n",
       "3  0.000626  0.001343  0.000619 -24.943177  68.512352 -42.569175  1.718262   \n",
       "4  0.000822  0.001039  0.000394  32.389116  55.338753 -86.727869  2.179296   \n",
       "\n",
       "   VarPorc_R1  VarPorc_W1  VarPorc_R2  VarPorc_W2  VarPorc_R3  VarPorc_W3  \\\n",
       "0  -24.597102   20.906386  -16.391030  -22.897850  -62.503468  -15.725184   \n",
       "1   17.738310  218.902828   -7.842382  -17.525943    4.072940   22.539298   \n",
       "2   32.349612  138.939599    9.367903  -26.407744   18.648380    1.431711   \n",
       "3  -28.301475 -286.522565    7.056798    3.643866    9.058262  -45.755419   \n",
       "4   -5.829264  142.202550  -17.118546  -16.284842  -30.677375   10.514638   \n",
       "\n",
       "   VarPorc_Var  \n",
       "0   -35.967167  \n",
       "1    13.630462  \n",
       "2   -16.394721  \n",
       "3   -19.354829  \n",
       "4     2.283407  "
      ]
     },
     "execution_count": 9,
     "metadata": {},
     "output_type": "execute_result"
    }
   ],
   "source": [
    "P2.head()"
   ]
  },
  {
   "cell_type": "code",
   "execution_count": 262,
   "metadata": {},
   "outputs": [
    {
     "name": "stdout",
     "output_type": "stream",
     "text": [
      "(0.00044197919999999996, 0.00126181265, 0.00081983345)\n",
      "(-49.3788524155, 44.51910696699999, 93.89795938249999)\n"
     ]
    }
   ],
   "source": [
    "print(np.percentile(P2['R1'],5),np.percentile(P2['R1'],95), abs(np.percentile(P2['R1'],5)-np.percentile(P2['R1'],95)))\n",
    "print(np.percentile(P2['VarPorc_R1'],5),np.percentile(P2['VarPorc_R1'],95), abs(np.percentile(P2['VarPorc_R1'],5)-np.percentile(P2['VarPorc_R1'],95)))"
   ]
  },
  {
   "cell_type": "code",
   "execution_count": 263,
   "metadata": {},
   "outputs": [
    {
     "name": "stdout",
     "output_type": "stream",
     "text": [
      "(0.0007002913, 0.0017886652, 0.0010883739)\n",
      "(-44.160651234999996, 42.6233922685, 86.78404350349999)\n"
     ]
    }
   ],
   "source": [
    "print(np.percentile(P2['R2'],5),np.percentile(P2['R2'],95), abs(np.percentile(P2['R2'],5)-np.percentile(P2['R2'],95)))\n",
    "print(np.percentile(P2['VarPorc_R2'],5),np.percentile(P2['VarPorc_R2'],95), abs(np.percentile(P2['VarPorc_R2'],5)-np.percentile(P2['VarPorc_R2'],95)))"
   ]
  },
  {
   "cell_type": "code",
   "execution_count": 269,
   "metadata": {},
   "outputs": [
    {
     "name": "stdout",
     "output_type": "stream",
     "text": [
      "(0.00015717590000000002, 0.0009431679999999998, 0.0007859920999999997)\n",
      "(-72.33007896499998, 66.03926228549996, 138.36934125049993)\n"
     ]
    }
   ],
   "source": [
    "print(np.percentile(P2['R3'],5),np.percentile(P2['R3'],95), abs(np.percentile(P2['R3'],5)-np.percentile(P2['R3'],95)))\n",
    "print(np.percentile(P2['VarPorc_R3'],5),np.percentile(P2['VarPorc_R3'],95), abs(np.percentile(P2['VarPorc_R3'],5)-np.percentile(P2['VarPorc_R3'],95)))"
   ]
  },
  {
   "cell_type": "code",
   "execution_count": 265,
   "metadata": {},
   "outputs": [
    {
     "name": "stdout",
     "output_type": "stream",
     "text": [
      "(-55.182419737500005, 85.670074316, 140.8524940535)\n",
      "(-512.648582515, 540.632195815, 1053.28077833)\n"
     ]
    }
   ],
   "source": [
    "print(np.percentile(P2['W1'],5),np.percentile(P2['W1'],95), abs(np.percentile(P2['W1'],5)-np.percentile(P2['W1'],95)))\n",
    "print(np.percentile(P2['VarPorc_W1'],5),np.percentile(P2['VarPorc_W1'],95), abs(np.percentile(P2['VarPorc_W1'],5)-np.percentile(P2['VarPorc_W1'],95)))"
   ]
  },
  {
   "cell_type": "code",
   "execution_count": 266,
   "metadata": {},
   "outputs": [
    {
     "name": "stdout",
     "output_type": "stream",
     "text": [
      "(22.521194796000003, 133.15446122, 110.633266424)\n",
      "(-65.93046893900001, 101.43292104999998, 167.36338998899998)\n"
     ]
    }
   ],
   "source": [
    "print(np.percentile(P2['W2'],5),np.percentile(P2['W2'],95), abs(np.percentile(P2['W2'],5)-np.percentile(P2['W2'],95)))\n",
    "print(np.percentile(P2['VarPorc_W2'],5),np.percentile(P2['VarPorc_W2'],95), abs(np.percentile(P2['VarPorc_W2'],5)-np.percentile(P2['VarPorc_W2'],95)))"
   ]
  },
  {
   "cell_type": "code",
   "execution_count": 267,
   "metadata": {},
   "outputs": [
    {
     "name": "stdout",
     "output_type": "stream",
     "text": [
      "(-149.39803003, -24.289498359500012, 125.10853167049999)\n",
      "(-69.048644435, 90.3732831189999, 159.4219275539999)\n"
     ]
    }
   ],
   "source": [
    "print(np.percentile(P2['W3'],5),np.percentile(P2['W3'],95), abs(np.percentile(P2['W3'],5)-np.percentile(P2['W3'],95)))\n",
    "print(np.percentile(P2['VarPorc_W3'],5),np.percentile(P2['VarPorc_W3'],95), abs(np.percentile(P2['VarPorc_W3'],5)-np.percentile(P2['VarPorc_W3'],95)))"
   ]
  },
  {
   "cell_type": "code",
   "execution_count": 9,
   "metadata": {},
   "outputs": [],
   "source": [
    "def output(df):\n",
    "    return list([round(np.percentile(df,5),3),round(np.percentile(df,95),3),round(abs(np.percentile(df,5)-np.percentile(df,95)),3)])"
   ]
  },
  {
   "cell_type": "code",
   "execution_count": 283,
   "metadata": {},
   "outputs": [
    {
     "data": {
      "text/plain": [
       "[0.00016, 0.00094, 0.00079]"
      ]
     },
     "execution_count": 283,
     "metadata": {},
     "output_type": "execute_result"
    }
   ],
   "source": [
    "output(P2['R3'])"
   ]
  },
  {
   "cell_type": "code",
   "execution_count": 284,
   "metadata": {},
   "outputs": [
    {
     "data": {
      "text/plain": [
       "[-72.33008, 66.03926, 138.36934]"
      ]
     },
     "execution_count": 284,
     "metadata": {},
     "output_type": "execute_result"
    }
   ],
   "source": [
    "output(P2['VarPorc_R3'])"
   ]
  },
  {
   "cell_type": "code",
   "execution_count": 285,
   "metadata": {},
   "outputs": [
    {
     "data": {
      "text/plain": [
       "[-55.18242, 85.67007, 140.85249]"
      ]
     },
     "execution_count": 285,
     "metadata": {},
     "output_type": "execute_result"
    }
   ],
   "source": [
    "output(P2['W1'])"
   ]
  },
  {
   "cell_type": "code",
   "execution_count": 286,
   "metadata": {},
   "outputs": [
    {
     "data": {
      "text/plain": [
       "[-512.64858, 540.6322, 1053.28078]"
      ]
     },
     "execution_count": 286,
     "metadata": {},
     "output_type": "execute_result"
    }
   ],
   "source": [
    "output(P2['VarPorc_W1'])"
   ]
  },
  {
   "cell_type": "code",
   "execution_count": 288,
   "metadata": {},
   "outputs": [
    {
     "data": {
      "text/plain": [
       "[22.52119, 133.15446, 110.63327]"
      ]
     },
     "execution_count": 288,
     "metadata": {},
     "output_type": "execute_result"
    }
   ],
   "source": [
    "output(P2['W2'])"
   ]
  },
  {
   "cell_type": "code",
   "execution_count": 289,
   "metadata": {},
   "outputs": [
    {
     "data": {
      "text/plain": [
       "[-65.93047, 101.43292, 167.36339]"
      ]
     },
     "execution_count": 289,
     "metadata": {},
     "output_type": "execute_result"
    }
   ],
   "source": [
    "output(P2['VarPorc_W2'])"
   ]
  },
  {
   "cell_type": "code",
   "execution_count": 291,
   "metadata": {},
   "outputs": [
    {
     "data": {
      "text/plain": [
       "[-149.39803, -24.2895, 125.10853]"
      ]
     },
     "execution_count": 291,
     "metadata": {},
     "output_type": "execute_result"
    }
   ],
   "source": [
    "output(P2['W3'])"
   ]
  },
  {
   "cell_type": "code",
   "execution_count": 292,
   "metadata": {},
   "outputs": [
    {
     "data": {
      "text/plain": [
       "[-69.04864, 90.37328, 159.42193]"
      ]
     },
     "execution_count": 292,
     "metadata": {},
     "output_type": "execute_result"
    }
   ],
   "source": [
    "output(P2['VarPorc_W3'])"
   ]
  },
  {
   "cell_type": "code",
   "execution_count": 303,
   "metadata": {},
   "outputs": [
    {
     "name": "stdout",
     "output_type": "stream",
     "text": [
      "('R1', [0.00044, 0.00126, 0.00082])\n",
      "('R2', [0.0007, 0.00179, 0.00109])\n",
      "('R3', [0.00016, 0.00094, 0.00079])\n",
      "('W1', [-55.18242, 85.67007, 140.85249])\n",
      "('W2', [22.52119, 133.15446, 110.63327])\n",
      "('W3', [-149.39803, -24.2895, 125.10853])\n",
      "('Var', [0.71912, 11.64062, 10.92149])\n",
      "('VarPorc_R1', [-49.37885, 44.51911, 93.89796])\n",
      "('VarPorc_W1', [-512.64858, 540.6322, 1053.28078])\n",
      "('VarPorc_R2', [-44.16065, 42.62339, 86.78404])\n",
      "('VarPorc_W2', [-65.93047, 101.43292, 167.36339])\n",
      "('VarPorc_R3', [-72.33008, 66.03926, 138.36934])\n",
      "('VarPorc_W3', [-69.04864, 90.37328, 159.42193])\n",
      "('VarPorc_Var', [-66.24856, 446.34255, 512.59111])\n"
     ]
    }
   ],
   "source": [
    "for i in P2.columns:\n",
    "    print(i,output(P2[i]))"
   ]
  },
  {
   "cell_type": "markdown",
   "metadata": {},
   "source": [
    "# sample size: 10000"
   ]
  },
  {
   "cell_type": "code",
   "execution_count": 16,
   "metadata": {},
   "outputs": [],
   "source": [
    "P3 = pd.read_csv('3assets_sample(10000).csv')"
   ]
  },
  {
   "cell_type": "code",
   "execution_count": 295,
   "metadata": {},
   "outputs": [
    {
     "name": "stdout",
     "output_type": "stream",
     "text": [
      "('Unnamed: 0', [49.95, 949.05, 899.1])\n",
      "('R1', [0.00055, 0.00118, 0.00063])\n",
      "('R2', [0.00085, 0.00166, 0.00081])\n",
      "('R3', [0.00027, 0.00084, 0.00057])\n",
      "('W1', [-33.03274, 62.06219, 95.09493])\n",
      "('W2', [34.94223, 109.15849, 74.21626])\n",
      "('W3', [-129.24495, -41.31032, 87.93464])\n",
      "('Var', [0.90722, 5.71861, 4.81139])\n",
      "('VarPorc_R1', [-37.10314, 34.80561, 71.90875])\n",
      "('VarPorc_W1', [-347.01552, 364.09482, 711.11034])\n",
      "('VarPorc_R2', [-31.83134, 32.73276, 64.5641])\n",
      "('VarPorc_W2', [-47.14021, 65.13239, 112.2726])\n",
      "('VarPorc_R3', [-51.94929, 48.72897, 100.67826])\n",
      "('VarPorc_W3', [-47.35954, 64.69284, 112.05239])\n",
      "('VarPorc_Var', [-57.42023, 168.39829, 225.81852])\n"
     ]
    }
   ],
   "source": [
    "for i in P3.columns:\n",
    "    print(i,output(P3[i]))"
   ]
  },
  {
   "cell_type": "markdown",
   "metadata": {},
   "source": [
    "# sample size: 15000"
   ]
  },
  {
   "cell_type": "code",
   "execution_count": 18,
   "metadata": {},
   "outputs": [],
   "source": [
    "P4 = pd.read_csv('3assets_sample(15000).csv')"
   ]
  },
  {
   "cell_type": "code",
   "execution_count": 298,
   "metadata": {},
   "outputs": [
    {
     "data": {
      "text/plain": [
       "Index([u'Unnamed: 0', u'R1', u'R2', u'R3', u'W1', u'W2', u'W3', u'Var',\n",
       "       u'VarPorc_R1', u'VarPorc_W1', u'VarPorc_R2', u'VarPorc_W2',\n",
       "       u'VarPorc_R3', u'VarPorc_W3', u'VarPorc_Var'],\n",
       "      dtype='object')"
      ]
     },
     "execution_count": 298,
     "metadata": {},
     "output_type": "execute_result"
    }
   ],
   "source": [
    "P4.columns"
   ]
  },
  {
   "cell_type": "code",
   "execution_count": 299,
   "metadata": {},
   "outputs": [],
   "source": [
    "col = ['R1','VarPorc_R1','R2','VarPorc_R2','R3','VarPorc_R3','W1','VarPorc_W1','W2','VarPorc_W2','W3','VarPorc_W3','Var','VarPorc_Var']"
   ]
  },
  {
   "cell_type": "code",
   "execution_count": 300,
   "metadata": {},
   "outputs": [],
   "source": [
    "P4 = P4[col].copy()"
   ]
  },
  {
   "cell_type": "code",
   "execution_count": 301,
   "metadata": {},
   "outputs": [
    {
     "data": {
      "text/html": [
       "<div>\n",
       "<style scoped>\n",
       "    .dataframe tbody tr th:only-of-type {\n",
       "        vertical-align: middle;\n",
       "    }\n",
       "\n",
       "    .dataframe tbody tr th {\n",
       "        vertical-align: top;\n",
       "    }\n",
       "\n",
       "    .dataframe thead th {\n",
       "        text-align: right;\n",
       "    }\n",
       "</style>\n",
       "<table border=\"1\" class=\"dataframe\">\n",
       "  <thead>\n",
       "    <tr style=\"text-align: right;\">\n",
       "      <th></th>\n",
       "      <th>R1</th>\n",
       "      <th>VarPorc_R1</th>\n",
       "      <th>R2</th>\n",
       "      <th>VarPorc_R2</th>\n",
       "      <th>R3</th>\n",
       "      <th>VarPorc_R3</th>\n",
       "      <th>W1</th>\n",
       "      <th>VarPorc_W1</th>\n",
       "      <th>W2</th>\n",
       "      <th>VarPorc_W2</th>\n",
       "      <th>W3</th>\n",
       "      <th>VarPorc_W3</th>\n",
       "      <th>Var</th>\n",
       "      <th>VarPorc_Var</th>\n",
       "    </tr>\n",
       "  </thead>\n",
       "  <tbody>\n",
       "    <tr>\n",
       "      <th>0</th>\n",
       "      <td>0.001034</td>\n",
       "      <td>18.441900</td>\n",
       "      <td>0.001192</td>\n",
       "      <td>-4.938532</td>\n",
       "      <td>0.000813</td>\n",
       "      <td>43.075900</td>\n",
       "      <td>46.376430</td>\n",
       "      <td>246.798280</td>\n",
       "      <td>102.566299</td>\n",
       "      <td>55.159873</td>\n",
       "      <td>-147.942730</td>\n",
       "      <td>88.518839</td>\n",
       "      <td>6.349305</td>\n",
       "      <td>197.999264</td>\n",
       "    </tr>\n",
       "    <tr>\n",
       "      <th>1</th>\n",
       "      <td>0.000940</td>\n",
       "      <td>7.718191</td>\n",
       "      <td>0.001173</td>\n",
       "      <td>-6.443378</td>\n",
       "      <td>0.000543</td>\n",
       "      <td>-4.477531</td>\n",
       "      <td>31.084642</td>\n",
       "      <td>132.447826</td>\n",
       "      <td>58.805528</td>\n",
       "      <td>-11.040388</td>\n",
       "      <td>-88.890170</td>\n",
       "      <td>13.269990</td>\n",
       "      <td>2.252759</td>\n",
       "      <td>5.731360</td>\n",
       "    </tr>\n",
       "    <tr>\n",
       "      <th>2</th>\n",
       "      <td>0.000884</td>\n",
       "      <td>1.247255</td>\n",
       "      <td>0.001662</td>\n",
       "      <td>32.515605</td>\n",
       "      <td>0.000710</td>\n",
       "      <td>24.922829</td>\n",
       "      <td>-8.724401</td>\n",
       "      <td>-165.240196</td>\n",
       "      <td>53.357443</td>\n",
       "      <td>-19.282122</td>\n",
       "      <td>-43.633041</td>\n",
       "      <td>-44.399766</td>\n",
       "      <td>1.096382</td>\n",
       "      <td>-48.542249</td>\n",
       "    </tr>\n",
       "    <tr>\n",
       "      <th>3</th>\n",
       "      <td>0.001210</td>\n",
       "      <td>38.608041</td>\n",
       "      <td>0.001437</td>\n",
       "      <td>14.559925</td>\n",
       "      <td>0.000726</td>\n",
       "      <td>27.842840</td>\n",
       "      <td>29.844372</td>\n",
       "      <td>123.173213</td>\n",
       "      <td>49.019016</td>\n",
       "      <td>-25.845192</td>\n",
       "      <td>-77.863388</td>\n",
       "      <td>-0.781096</td>\n",
       "      <td>1.692886</td>\n",
       "      <td>-20.545847</td>\n",
       "    </tr>\n",
       "    <tr>\n",
       "      <th>4</th>\n",
       "      <td>0.001091</td>\n",
       "      <td>24.981205</td>\n",
       "      <td>0.001308</td>\n",
       "      <td>4.317180</td>\n",
       "      <td>0.000848</td>\n",
       "      <td>49.285233</td>\n",
       "      <td>30.270239</td>\n",
       "      <td>126.357803</td>\n",
       "      <td>90.794928</td>\n",
       "      <td>37.352421</td>\n",
       "      <td>-120.065167</td>\n",
       "      <td>52.995324</td>\n",
       "      <td>4.441428</td>\n",
       "      <td>108.454687</td>\n",
       "    </tr>\n",
       "  </tbody>\n",
       "</table>\n",
       "</div>"
      ],
      "text/plain": [
       "         R1  VarPorc_R1        R2  VarPorc_R2        R3  VarPorc_R3  \\\n",
       "0  0.001034   18.441900  0.001192   -4.938532  0.000813   43.075900   \n",
       "1  0.000940    7.718191  0.001173   -6.443378  0.000543   -4.477531   \n",
       "2  0.000884    1.247255  0.001662   32.515605  0.000710   24.922829   \n",
       "3  0.001210   38.608041  0.001437   14.559925  0.000726   27.842840   \n",
       "4  0.001091   24.981205  0.001308    4.317180  0.000848   49.285233   \n",
       "\n",
       "          W1  VarPorc_W1          W2  VarPorc_W2          W3  VarPorc_W3  \\\n",
       "0  46.376430  246.798280  102.566299   55.159873 -147.942730   88.518839   \n",
       "1  31.084642  132.447826   58.805528  -11.040388  -88.890170   13.269990   \n",
       "2  -8.724401 -165.240196   53.357443  -19.282122  -43.633041  -44.399766   \n",
       "3  29.844372  123.173213   49.019016  -25.845192  -77.863388   -0.781096   \n",
       "4  30.270239  126.357803   90.794928   37.352421 -120.065167   52.995324   \n",
       "\n",
       "        Var  VarPorc_Var  \n",
       "0  6.349305   197.999264  \n",
       "1  2.252759     5.731360  \n",
       "2  1.096382   -48.542249  \n",
       "3  1.692886   -20.545847  \n",
       "4  4.441428   108.454687  "
      ]
     },
     "execution_count": 301,
     "metadata": {},
     "output_type": "execute_result"
    }
   ],
   "source": [
    "P4.head()"
   ]
  },
  {
   "cell_type": "code",
   "execution_count": 302,
   "metadata": {},
   "outputs": [
    {
     "name": "stdout",
     "output_type": "stream",
     "text": [
      "('R1', [0.00062, 0.00113, 0.00051])\n",
      "('VarPorc_R1', [-28.69027, 29.22498, 57.91525])\n",
      "('R2', [0.00094, 0.00158, 0.00065])\n",
      "('VarPorc_R2', [-25.41737, 26.31571, 51.73308])\n",
      "('R3', [0.00035, 0.00079, 0.00044])\n",
      "('VarPorc_R3', [-38.6106, 38.60477, 77.21536])\n",
      "('W1', [-21.21807, 54.37227, 75.59034])\n",
      "('VarPorc_W1', [-258.6666, 306.59038, 565.25698])\n",
      "('W2', [43.0252, 102.13355, 59.10835])\n",
      "('VarPorc_W2', [-34.91249, 54.50522, 89.41771])\n",
      "('W3', [-128.4497, -46.89446, 81.55524])\n",
      "('VarPorc_W3', [-40.24384, 63.67948, 103.92331])\n",
      "('Var', [1.05111, 5.22675, 4.17563])\n",
      "('VarPorc_Var', [-50.66686, 145.31289, 195.97975])\n"
     ]
    }
   ],
   "source": [
    "for i in P4.columns:\n",
    "    print(i,output(P4[i]))"
   ]
  },
  {
   "cell_type": "markdown",
   "metadata": {},
   "source": [
    "# sample size: 20000"
   ]
  },
  {
   "cell_type": "code",
   "execution_count": 19,
   "metadata": {},
   "outputs": [],
   "source": [
    "P5 = pd.read_csv('3assets_sample(20000).csv')"
   ]
  },
  {
   "cell_type": "code",
   "execution_count": 309,
   "metadata": {},
   "outputs": [],
   "source": [
    "P5 = P5[col].copy()"
   ]
  },
  {
   "cell_type": "code",
   "execution_count": 310,
   "metadata": {},
   "outputs": [
    {
     "name": "stdout",
     "output_type": "stream",
     "text": [
      "('R1', [0.00065, 0.00107, 0.00042])\n",
      "('VarPorc_R1', [-25.36316, 22.34841, 47.71156])\n",
      "('R2', [0.00098, 0.00152, 0.00054])\n",
      "('VarPorc_R2', [-21.60547, 21.17963, 42.7851])\n",
      "('R3', [0.00035, 0.00076, 0.0004])\n",
      "('VarPorc_R3', [-37.67934, 33.48941, 71.16875])\n",
      "('W1', [-15.3032, 45.50016, 60.80336])\n",
      "('VarPorc_W1', [-214.43582, 240.2456, 454.68141])\n",
      "('W2', [44.35566, 95.38967, 51.03401])\n",
      "('VarPorc_W2', [-32.8998, 44.30324, 77.20304])\n",
      "('W3', [-115.08996, -52.27015, 62.81981])\n",
      "('VarPorc_W3', [-33.39376, 46.65558, 80.04934])\n",
      "('Var', [1.15414, 4.44077, 3.28663])\n",
      "('VarPorc_Var', [-45.83132, 108.42383, 154.25516])\n"
     ]
    }
   ],
   "source": [
    "for i in P5.columns:\n",
    "    print(i,output(P5[i]))"
   ]
  },
  {
   "cell_type": "markdown",
   "metadata": {},
   "source": [
    "# six assets"
   ]
  },
  {
   "cell_type": "markdown",
   "metadata": {},
   "source": [
    "# sample size: 1000"
   ]
  },
  {
   "cell_type": "code",
   "execution_count": 3,
   "metadata": {},
   "outputs": [],
   "source": [
    "P6 = pd.read_csv('6assets_sample(1000).csv')"
   ]
  },
  {
   "cell_type": "code",
   "execution_count": 4,
   "metadata": {},
   "outputs": [],
   "source": [
    "col = ['R1','VarPorc_R1','R2','VarPorc_R2','R3','VarPorc_R3','R4','VarPorc_R4','R5','VarPorc_R5','R6','VarPorc_R6','W1','VarPorc_W1','W2','VarPorc_W2','W3','VarPorc_W3','W4','VarPorc_W4','W5','VarPorc_W5','W6','VarPorc_W6','Var','VarPorc_Var']"
   ]
  },
  {
   "cell_type": "code",
   "execution_count": 5,
   "metadata": {},
   "outputs": [],
   "source": [
    "P6 = P6[col].copy()"
   ]
  },
  {
   "cell_type": "code",
   "execution_count": 10,
   "metadata": {},
   "outputs": [
    {
     "name": "stdout",
     "output_type": "stream",
     "text": [
      "('R1', [-0.0, 0.002, 0.002])\n",
      "('VarPorc_R1', [-110.805, 115.489, 226.293])\n",
      "('R2', [0.0, 0.003, 0.002])\n",
      "('VarPorc_R2', [-99.495, 99.757, 199.252])\n",
      "('R3', [-0.0, 0.001, 0.002])\n",
      "('VarPorc_R3', [-165.822, 154.74, 320.563])\n",
      "('R4', [-0.0, 0.004, 0.004])\n",
      "('VarPorc_R4', [-100.598, 103.577, 204.175])\n",
      "('R5', [-0.0, 0.002, 0.002])\n",
      "('VarPorc_R5', [-141.021, 136.791, 277.812])\n",
      "('R6', [-0.001, 0.001, 0.001])\n",
      "('VarPorc_R6', [-1520.831, 1450.714, 2971.545])\n",
      "('W1', [-11.328, 31.858, 43.186])\n",
      "('VarPorc_W1', [-170.145, 97.263, 267.408])\n",
      "('W2', [-10.611, 27.367, 37.978])\n",
      "('VarPorc_W2', [-167.688, 74.573, 242.261])\n",
      "('W3', [-22.758, 25.564, 48.321])\n",
      "('VarPorc_W3', [-928.451, 830.6, 1759.052])\n",
      "('W4', [-5.308, 16.37, 21.677])\n",
      "('VarPorc_W4', [-152.962, 63.347, 216.308])\n",
      "('W5', [-28.635, 25.676, 54.31])\n",
      "('VarPorc_W5', [-2483.215, 2557.881, 5041.096])\n",
      "('W6', [-47.761, -0.822, 46.939])\n",
      "('VarPorc_W6', [-98.068, 12.332, 110.4])\n",
      "('Var', [0.125, 0.834, 0.709])\n",
      "('VarPorc_Var', [-74.919, 67.564, 142.483])\n"
     ]
    }
   ],
   "source": [
    "for i in P6.columns:\n",
    "    print(i,output(P6[i]))"
   ]
  },
  {
   "cell_type": "code",
   "execution_count": null,
   "metadata": {},
   "outputs": [],
   "source": []
  }
 ],
 "metadata": {
  "kernelspec": {
   "display_name": "Python 3",
   "language": "python",
   "name": "python3"
  },
  "language_info": {
   "codemirror_mode": {
    "name": "ipython",
    "version": 3
   },
   "file_extension": ".py",
   "mimetype": "text/x-python",
   "name": "python",
   "nbconvert_exporter": "python",
   "pygments_lexer": "ipython3",
   "version": "3.7.4"
  }
 },
 "nbformat": 4,
 "nbformat_minor": 2
}
